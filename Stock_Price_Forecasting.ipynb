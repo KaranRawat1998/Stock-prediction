{
  "nbformat": 4,
  "nbformat_minor": 0,
  "metadata": {
    "colab": {
      "name": "Stock Price Forecasting.ipynb",
      "provenance": [],
      "collapsed_sections": [],
      "mount_file_id": "1XxRSBprhUEagq01UzPKHBRWU9z_V0dvt",
      "authorship_tag": "ABX9TyPxvcgJecPXqCRO61WR2y+m",
      "include_colab_link": true
    },
    "kernelspec": {
      "name": "python3",
      "display_name": "Python 3"
    },
    "language_info": {
      "name": "python"
    },
    "accelerator": "GPU"
  },
  "cells": [
    {
      "cell_type": "markdown",
      "metadata": {
        "id": "view-in-github",
        "colab_type": "text"
      },
      "source": [
        "<a href=\"https://colab.research.google.com/github/KaranRawat1998/Stock-prediction/blob/master/Stock_Price_Forecasting.ipynb\" target=\"_parent\"><img src=\"https://colab.research.google.com/assets/colab-badge.svg\" alt=\"Open In Colab\"/></a>"
      ]
    },
    {
      "cell_type": "markdown",
      "metadata": {
        "id": "ItR39yc-cTC_"
      },
      "source": [
        "#**STOCK MARKET FORECASTING USING STACKED LSTM**"
      ]
    },
    {
      "cell_type": "code",
      "metadata": {
        "id": "wpbt24N_mjsT"
      },
      "source": [
        "import pandas as pd\n",
        "import numpy as np\n",
        "import matplotlib.pyplot as plt"
      ],
      "execution_count": null,
      "outputs": []
    },
    {
      "cell_type": "code",
      "metadata": {
        "id": "yRDr0atGdDZA"
      },
      "source": [
        "df=pd.read_csv('/content/drive/MyDrive/Colab Notebooks/Deep Learning/RNN LSTM/AAPL.csv')"
      ],
      "execution_count": null,
      "outputs": []
    },
    {
      "cell_type": "code",
      "metadata": {
        "colab": {
          "base_uri": "https://localhost:8080/",
          "height": 324
        },
        "id": "lZpIexHjd5fa",
        "outputId": "aa241250-052f-4605-c6cf-a7787168540a"
      },
      "source": [
        "df.head()"
      ],
      "execution_count": null,
      "outputs": [
        {
          "output_type": "execute_result",
          "data": {
            "text/html": [
              "<div>\n",
              "<style scoped>\n",
              "    .dataframe tbody tr th:only-of-type {\n",
              "        vertical-align: middle;\n",
              "    }\n",
              "\n",
              "    .dataframe tbody tr th {\n",
              "        vertical-align: top;\n",
              "    }\n",
              "\n",
              "    .dataframe thead th {\n",
              "        text-align: right;\n",
              "    }\n",
              "</style>\n",
              "<table border=\"1\" class=\"dataframe\">\n",
              "  <thead>\n",
              "    <tr style=\"text-align: right;\">\n",
              "      <th></th>\n",
              "      <th>Unnamed: 0</th>\n",
              "      <th>symbol</th>\n",
              "      <th>date</th>\n",
              "      <th>close</th>\n",
              "      <th>high</th>\n",
              "      <th>low</th>\n",
              "      <th>open</th>\n",
              "      <th>volume</th>\n",
              "      <th>adjClose</th>\n",
              "      <th>adjHigh</th>\n",
              "      <th>adjLow</th>\n",
              "      <th>adjOpen</th>\n",
              "      <th>adjVolume</th>\n",
              "      <th>divCash</th>\n",
              "      <th>splitFactor</th>\n",
              "    </tr>\n",
              "  </thead>\n",
              "  <tbody>\n",
              "    <tr>\n",
              "      <th>0</th>\n",
              "      <td>0</td>\n",
              "      <td>AAPL</td>\n",
              "      <td>2015-05-27 00:00:00+00:00</td>\n",
              "      <td>132.045</td>\n",
              "      <td>132.260</td>\n",
              "      <td>130.05</td>\n",
              "      <td>130.34</td>\n",
              "      <td>45833246</td>\n",
              "      <td>121.682558</td>\n",
              "      <td>121.880685</td>\n",
              "      <td>119.844118</td>\n",
              "      <td>120.111360</td>\n",
              "      <td>45833246</td>\n",
              "      <td>0.0</td>\n",
              "      <td>1.0</td>\n",
              "    </tr>\n",
              "    <tr>\n",
              "      <th>1</th>\n",
              "      <td>1</td>\n",
              "      <td>AAPL</td>\n",
              "      <td>2015-05-28 00:00:00+00:00</td>\n",
              "      <td>131.780</td>\n",
              "      <td>131.950</td>\n",
              "      <td>131.10</td>\n",
              "      <td>131.86</td>\n",
              "      <td>30733309</td>\n",
              "      <td>121.438354</td>\n",
              "      <td>121.595013</td>\n",
              "      <td>120.811718</td>\n",
              "      <td>121.512076</td>\n",
              "      <td>30733309</td>\n",
              "      <td>0.0</td>\n",
              "      <td>1.0</td>\n",
              "    </tr>\n",
              "    <tr>\n",
              "      <th>2</th>\n",
              "      <td>2</td>\n",
              "      <td>AAPL</td>\n",
              "      <td>2015-05-29 00:00:00+00:00</td>\n",
              "      <td>130.280</td>\n",
              "      <td>131.450</td>\n",
              "      <td>129.90</td>\n",
              "      <td>131.23</td>\n",
              "      <td>50884452</td>\n",
              "      <td>120.056069</td>\n",
              "      <td>121.134251</td>\n",
              "      <td>119.705890</td>\n",
              "      <td>120.931516</td>\n",
              "      <td>50884452</td>\n",
              "      <td>0.0</td>\n",
              "      <td>1.0</td>\n",
              "    </tr>\n",
              "    <tr>\n",
              "      <th>3</th>\n",
              "      <td>3</td>\n",
              "      <td>AAPL</td>\n",
              "      <td>2015-06-01 00:00:00+00:00</td>\n",
              "      <td>130.535</td>\n",
              "      <td>131.390</td>\n",
              "      <td>130.05</td>\n",
              "      <td>131.20</td>\n",
              "      <td>32112797</td>\n",
              "      <td>120.291057</td>\n",
              "      <td>121.078960</td>\n",
              "      <td>119.844118</td>\n",
              "      <td>120.903870</td>\n",
              "      <td>32112797</td>\n",
              "      <td>0.0</td>\n",
              "      <td>1.0</td>\n",
              "    </tr>\n",
              "    <tr>\n",
              "      <th>4</th>\n",
              "      <td>4</td>\n",
              "      <td>AAPL</td>\n",
              "      <td>2015-06-02 00:00:00+00:00</td>\n",
              "      <td>129.960</td>\n",
              "      <td>130.655</td>\n",
              "      <td>129.32</td>\n",
              "      <td>129.86</td>\n",
              "      <td>33667627</td>\n",
              "      <td>119.761181</td>\n",
              "      <td>120.401640</td>\n",
              "      <td>119.171406</td>\n",
              "      <td>119.669029</td>\n",
              "      <td>33667627</td>\n",
              "      <td>0.0</td>\n",
              "      <td>1.0</td>\n",
              "    </tr>\n",
              "  </tbody>\n",
              "</table>\n",
              "</div>"
            ],
            "text/plain": [
              "   Unnamed: 0 symbol  ... divCash  splitFactor\n",
              "0           0   AAPL  ...     0.0          1.0\n",
              "1           1   AAPL  ...     0.0          1.0\n",
              "2           2   AAPL  ...     0.0          1.0\n",
              "3           3   AAPL  ...     0.0          1.0\n",
              "4           4   AAPL  ...     0.0          1.0\n",
              "\n",
              "[5 rows x 15 columns]"
            ]
          },
          "metadata": {},
          "execution_count": 3
        }
      ]
    },
    {
      "cell_type": "code",
      "metadata": {
        "colab": {
          "base_uri": "https://localhost:8080/",
          "height": 324
        },
        "id": "qkth0AnUd-la",
        "outputId": "20f747bb-1195-4652-b846-171f80f53460"
      },
      "source": [
        "df.tail()"
      ],
      "execution_count": null,
      "outputs": [
        {
          "output_type": "execute_result",
          "data": {
            "text/html": [
              "<div>\n",
              "<style scoped>\n",
              "    .dataframe tbody tr th:only-of-type {\n",
              "        vertical-align: middle;\n",
              "    }\n",
              "\n",
              "    .dataframe tbody tr th {\n",
              "        vertical-align: top;\n",
              "    }\n",
              "\n",
              "    .dataframe thead th {\n",
              "        text-align: right;\n",
              "    }\n",
              "</style>\n",
              "<table border=\"1\" class=\"dataframe\">\n",
              "  <thead>\n",
              "    <tr style=\"text-align: right;\">\n",
              "      <th></th>\n",
              "      <th>Unnamed: 0</th>\n",
              "      <th>symbol</th>\n",
              "      <th>date</th>\n",
              "      <th>close</th>\n",
              "      <th>high</th>\n",
              "      <th>low</th>\n",
              "      <th>open</th>\n",
              "      <th>volume</th>\n",
              "      <th>adjClose</th>\n",
              "      <th>adjHigh</th>\n",
              "      <th>adjLow</th>\n",
              "      <th>adjOpen</th>\n",
              "      <th>adjVolume</th>\n",
              "      <th>divCash</th>\n",
              "      <th>splitFactor</th>\n",
              "    </tr>\n",
              "  </thead>\n",
              "  <tbody>\n",
              "    <tr>\n",
              "      <th>1253</th>\n",
              "      <td>1253</td>\n",
              "      <td>AAPL</td>\n",
              "      <td>2020-05-18 00:00:00+00:00</td>\n",
              "      <td>314.96</td>\n",
              "      <td>316.50</td>\n",
              "      <td>310.3241</td>\n",
              "      <td>313.17</td>\n",
              "      <td>33843125</td>\n",
              "      <td>314.96</td>\n",
              "      <td>316.50</td>\n",
              "      <td>310.3241</td>\n",
              "      <td>313.17</td>\n",
              "      <td>33843125</td>\n",
              "      <td>0.0</td>\n",
              "      <td>1.0</td>\n",
              "    </tr>\n",
              "    <tr>\n",
              "      <th>1254</th>\n",
              "      <td>1254</td>\n",
              "      <td>AAPL</td>\n",
              "      <td>2020-05-19 00:00:00+00:00</td>\n",
              "      <td>313.14</td>\n",
              "      <td>318.52</td>\n",
              "      <td>313.0100</td>\n",
              "      <td>315.03</td>\n",
              "      <td>25432385</td>\n",
              "      <td>313.14</td>\n",
              "      <td>318.52</td>\n",
              "      <td>313.0100</td>\n",
              "      <td>315.03</td>\n",
              "      <td>25432385</td>\n",
              "      <td>0.0</td>\n",
              "      <td>1.0</td>\n",
              "    </tr>\n",
              "    <tr>\n",
              "      <th>1255</th>\n",
              "      <td>1255</td>\n",
              "      <td>AAPL</td>\n",
              "      <td>2020-05-20 00:00:00+00:00</td>\n",
              "      <td>319.23</td>\n",
              "      <td>319.52</td>\n",
              "      <td>316.2000</td>\n",
              "      <td>316.68</td>\n",
              "      <td>27876215</td>\n",
              "      <td>319.23</td>\n",
              "      <td>319.52</td>\n",
              "      <td>316.2000</td>\n",
              "      <td>316.68</td>\n",
              "      <td>27876215</td>\n",
              "      <td>0.0</td>\n",
              "      <td>1.0</td>\n",
              "    </tr>\n",
              "    <tr>\n",
              "      <th>1256</th>\n",
              "      <td>1256</td>\n",
              "      <td>AAPL</td>\n",
              "      <td>2020-05-21 00:00:00+00:00</td>\n",
              "      <td>316.85</td>\n",
              "      <td>320.89</td>\n",
              "      <td>315.8700</td>\n",
              "      <td>318.66</td>\n",
              "      <td>25672211</td>\n",
              "      <td>316.85</td>\n",
              "      <td>320.89</td>\n",
              "      <td>315.8700</td>\n",
              "      <td>318.66</td>\n",
              "      <td>25672211</td>\n",
              "      <td>0.0</td>\n",
              "      <td>1.0</td>\n",
              "    </tr>\n",
              "    <tr>\n",
              "      <th>1257</th>\n",
              "      <td>1257</td>\n",
              "      <td>AAPL</td>\n",
              "      <td>2020-05-22 00:00:00+00:00</td>\n",
              "      <td>318.89</td>\n",
              "      <td>319.23</td>\n",
              "      <td>315.3500</td>\n",
              "      <td>315.77</td>\n",
              "      <td>20450754</td>\n",
              "      <td>318.89</td>\n",
              "      <td>319.23</td>\n",
              "      <td>315.3500</td>\n",
              "      <td>315.77</td>\n",
              "      <td>20450754</td>\n",
              "      <td>0.0</td>\n",
              "      <td>1.0</td>\n",
              "    </tr>\n",
              "  </tbody>\n",
              "</table>\n",
              "</div>"
            ],
            "text/plain": [
              "      Unnamed: 0 symbol  ... divCash  splitFactor\n",
              "1253        1253   AAPL  ...     0.0          1.0\n",
              "1254        1254   AAPL  ...     0.0          1.0\n",
              "1255        1255   AAPL  ...     0.0          1.0\n",
              "1256        1256   AAPL  ...     0.0          1.0\n",
              "1257        1257   AAPL  ...     0.0          1.0\n",
              "\n",
              "[5 rows x 15 columns]"
            ]
          },
          "metadata": {},
          "execution_count": 4
        }
      ]
    },
    {
      "cell_type": "code",
      "metadata": {
        "id": "0vECleEbeDHT"
      },
      "source": [
        "df_close=df.reset_index()['close']"
      ],
      "execution_count": null,
      "outputs": []
    },
    {
      "cell_type": "code",
      "metadata": {
        "colab": {
          "base_uri": "https://localhost:8080/"
        },
        "id": "W9GDoSurfKa4",
        "outputId": "37886c67-47bb-4dca-f250-b8cebe400e88"
      },
      "source": [
        "df_close"
      ],
      "execution_count": null,
      "outputs": [
        {
          "output_type": "execute_result",
          "data": {
            "text/plain": [
              "0       132.045\n",
              "1       131.780\n",
              "2       130.280\n",
              "3       130.535\n",
              "4       129.960\n",
              "         ...   \n",
              "1253    314.960\n",
              "1254    313.140\n",
              "1255    319.230\n",
              "1256    316.850\n",
              "1257    318.890\n",
              "Name: close, Length: 1258, dtype: float64"
            ]
          },
          "metadata": {},
          "execution_count": 6
        }
      ]
    },
    {
      "cell_type": "code",
      "metadata": {
        "colab": {
          "base_uri": "https://localhost:8080/",
          "height": 282
        },
        "id": "3nWQutzNfNfQ",
        "outputId": "c80cfc42-fa50-4a53-d2f7-f5d54cdc8c9d"
      },
      "source": [
        "plt.plot(df_close)"
      ],
      "execution_count": null,
      "outputs": [
        {
          "output_type": "execute_result",
          "data": {
            "text/plain": [
              "[<matplotlib.lines.Line2D at 0x7ff2de79fe50>]"
            ]
          },
          "metadata": {},
          "execution_count": 7
        },
        {
          "output_type": "display_data",
          "data": {
            "image/png": "[encoded data removed]",
            "text/plain": [
              "<Figure size 432x288 with 1 Axes>"
            ]
          },
          "metadata": {
            "needs_background": "light"
          }
        }
      ]
    },
    {
      "cell_type": "markdown",
      "metadata": {
        "id": "sJD6ce6B1xSS"
      },
      "source": [
        "#**Train Test Split**"
      ]
    },
    {
      "cell_type": "code",
      "metadata": {
        "id": "sdrOjC6KfXcq"
      },
      "source": [
        "##splitting dataset into train and test split\n",
        "train_size=int(len(df_close)*0.65)\n",
        "test_size=len(df_close)-train_size\n",
        "train_data,test_data=df_close[0:train_size],df_close[train_size:]"
      ],
      "execution_count": null,
      "outputs": []
    },
    {
      "cell_type": "code",
      "metadata": {
        "colab": {
          "base_uri": "https://localhost:8080/"
        },
        "id": "Snte68P8qHLy",
        "outputId": "cbb00e8a-4f75-4c44-e1fb-c41e334d5881"
      },
      "source": [
        "train_size,test_size"
      ],
      "execution_count": null,
      "outputs": [
        {
          "output_type": "execute_result",
          "data": {
            "text/plain": [
              "(817, 441)"
            ]
          },
          "metadata": {},
          "execution_count": 9
        }
      ]
    },
    {
      "cell_type": "markdown",
      "metadata": {
        "id": "uH37Dw746Lcv"
      },
      "source": [
        "#**Feature Scaling**"
      ]
    },
    {
      "cell_type": "code",
      "metadata": {
        "id": "tLtO5Ql2nio1"
      },
      "source": [
        "from sklearn.preprocessing import MinMaxScaler\n",
        "scaler=MinMaxScaler(feature_range=(0,1))\n",
        "train_data=scaler.fit_transform(np.array(train_data).reshape(-1,1))"
      ],
      "execution_count": null,
      "outputs": []
    },
    {
      "cell_type": "code",
      "metadata": {
        "id": "STfo8WNwrXPa"
      },
      "source": [
        "test_data=scaler.transform(np.array(test_data).reshape(-1,1))"
      ],
      "execution_count": null,
      "outputs": []
    },
    {
      "cell_type": "code",
      "metadata": {
        "id": "IokUOu3O2vqY"
      },
      "source": [
        "df_close=np.array(df_close).reshape(-1,1)"
      ],
      "execution_count": null,
      "outputs": []
    },
    {
      "cell_type": "markdown",
      "metadata": {
        "id": "7oIayA1Q6fKv"
      },
      "source": [
        "#**Creating Dataset**"
      ]
    },
    {
      "cell_type": "code",
      "metadata": {
        "id": "xXMpKq5Et_4V"
      },
      "source": [
        "#creating dataset with time step\n",
        "def create_dataset(dataset,time_step):\n",
        "  X,Y = [],[]\n",
        "  for i in range(len(dataset)-time_step-1):\n",
        "    a=  dataset[i:(i+time_step),0]\n",
        "    X.append(a)\n",
        "    Y.append(dataset[i+time_step,0])\n",
        "  return np.array(X),np.array(Y)"
      ],
      "execution_count": null,
      "outputs": []
    },
    {
      "cell_type": "code",
      "metadata": {
        "id": "_qceIIvZLWRf"
      },
      "source": [
        "time_step=100\n",
        "X_train,y_train=create_dataset(train_data,time_step)\n",
        "X_test,y_test=create_dataset(test_data,time_step)"
      ],
      "execution_count": null,
      "outputs": []
    },
    {
      "cell_type": "code",
      "metadata": {
        "colab": {
          "base_uri": "https://localhost:8080/"
        },
        "id": "95SIemHCLdPV",
        "outputId": "93985d86-8382-4bb0-b036-2b9d4362626d"
      },
      "source": [
        "X_train.shape,y_train.shape"
      ],
      "execution_count": null,
      "outputs": [
        {
          "output_type": "execute_result",
          "data": {
            "text/plain": [
              "((716, 100), (716,))"
            ]
          },
          "metadata": {},
          "execution_count": 15
        }
      ]
    },
    {
      "cell_type": "code",
      "metadata": {
        "colab": {
          "base_uri": "https://localhost:8080/"
        },
        "id": "MRPoZBrcuBxA",
        "outputId": "ee0091ac-0f99-471e-ea45-424e76453e14"
      },
      "source": [
        "X_test.shape,y_test.shape"
      ],
      "execution_count": null,
      "outputs": [
        {
          "output_type": "execute_result",
          "data": {
            "text/plain": [
              "((340, 100), (340,))"
            ]
          },
          "metadata": {},
          "execution_count": 16
        }
      ]
    },
    {
      "cell_type": "code",
      "metadata": {
        "id": "MOYdAgmOvxN9"
      },
      "source": [
        "X_train=X_train.reshape(X_train.shape[0],X_train.shape[1],1)\n",
        "X_test=X_test.reshape(X_test.shape[0],X_test.shape[1],1)"
      ],
      "execution_count": null,
      "outputs": []
    },
    {
      "cell_type": "code",
      "metadata": {
        "colab": {
          "base_uri": "https://localhost:8080/"
        },
        "id": "-wVGoTsRwUXt",
        "outputId": "3535b71f-b7c2-4340-be02-a56144d6f0b9"
      },
      "source": [
        "X_train.shape,X_test.shape"
      ],
      "execution_count": null,
      "outputs": [
        {
          "output_type": "execute_result",
          "data": {
            "text/plain": [
              "((716, 100, 1), (340, 100, 1))"
            ]
          },
          "metadata": {},
          "execution_count": 18
        }
      ]
    },
    {
      "cell_type": "markdown",
      "metadata": {
        "id": "AHh9LchH64Nx"
      },
      "source": [
        "#**LSTM Model Building**"
      ]
    },
    {
      "cell_type": "code",
      "metadata": {
        "id": "Ji0E7YAVwcMG"
      },
      "source": [
        "from keras.models import Sequential\n",
        "from keras.layers import LSTM,Dense"
      ],
      "execution_count": null,
      "outputs": []
    },
    {
      "cell_type": "code",
      "metadata": {
        "id": "HWNePdMrw2ZT"
      },
      "source": [
        "model=Sequential()\n",
        "model.add(LSTM(50,return_sequences=True,input_shape=(100,1)))\n",
        "model.add(LSTM(50,return_sequences=True))\n",
        "model.add(LSTM(50))\n",
        "model.add(Dense(1))\n",
        "model.compile(loss='mean_squared_error',optimizer='adam')"
      ],
      "execution_count": null,
      "outputs": []
    },
    {
      "cell_type": "code",
      "metadata": {
        "colab": {
          "base_uri": "https://localhost:8080/"
        },
        "id": "pWbxPQBDx70j",
        "outputId": "23e34675-c2c4-4f18-fe54-d4ee0fbcebaf"
      },
      "source": [
        "model.summary()"
      ],
      "execution_count": null,
      "outputs": [
        {
          "output_type": "stream",
          "name": "stdout",
          "text": [
            "Model: \"sequential\"\n",
            "_________________________________________________________________\n",
            "Layer (type)                 Output Shape              Param #   \n",
            "=================================================================\n",
            "lstm (LSTM)                  (None, 100, 50)           10400     \n",
            "_________________________________________________________________\n",
            "lstm_1 (LSTM)                (None, 100, 50)           20200     \n",
            "_________________________________________________________________\n",
            "lstm_2 (LSTM)                (None, 50)                20200     \n",
            "_________________________________________________________________\n",
            "dense (Dense)                (None, 1)                 51        \n",
            "=================================================================\n",
            "Total params: 50,851\n",
            "Trainable params: 50,851\n",
            "Non-trainable params: 0\n",
            "_________________________________________________________________\n"
          ]
        }
      ]
    },
    {
      "cell_type": "code",
      "metadata": {
        "colab": {
          "base_uri": "https://localhost:8080/"
        },
        "id": "wsNgUYNS0Czw",
        "outputId": "9f6a5cb1-93c4-4808-d0e6-1059a4ce76e7"
      },
      "source": [
        "model.fit(X_train,y_train,validation_data=(X_test,y_test),epochs=100,batch_size=64,verbose=1)"
      ],
      "execution_count": null,
      "outputs": [
        {
          "output_type": "stream",
          "name": "stdout",
          "text": [
            "Epoch 1/100\n",
            "12/12 [==============================] - 8s 216ms/step - loss: 0.0423 - val_loss: 0.2051\n",
            "Epoch 2/100\n",
            "12/12 [==============================] - 1s 86ms/step - loss: 0.0089 - val_loss: 0.0462\n",
            "Epoch 3/100\n",
            "12/12 [==============================] - 1s 84ms/step - loss: 0.0033 - val_loss: 0.0410\n",
            "Epoch 4/100\n",
            "12/12 [==============================] - 1s 83ms/step - loss: 0.0026 - val_loss: 0.0520\n",
            "Epoch 5/100\n",
            "12/12 [==============================] - 1s 84ms/step - loss: 0.0023 - val_loss: 0.0465\n",
            "Epoch 6/100\n",
            "12/12 [==============================] - 1s 84ms/step - loss: 0.0021 - val_loss: 0.0399\n",
            "Epoch 7/100\n",
            "12/12 [==============================] - 1s 83ms/step - loss: 0.0021 - val_loss: 0.0310\n",
            "Epoch 8/100\n",
            "12/12 [==============================] - 1s 82ms/step - loss: 0.0021 - val_loss: 0.0318\n",
            "Epoch 9/100\n",
            "12/12 [==============================] - 1s 83ms/step - loss: 0.0021 - val_loss: 0.0306\n",
            "Epoch 10/100\n",
            "12/12 [==============================] - 1s 97ms/step - loss: 0.0020 - val_loss: 0.0241\n",
            "Epoch 11/100\n",
            "12/12 [==============================] - 1s 83ms/step - loss: 0.0020 - val_loss: 0.0225\n",
            "Epoch 12/100\n",
            "12/12 [==============================] - 1s 83ms/step - loss: 0.0019 - val_loss: 0.0145\n",
            "Epoch 13/100\n",
            "12/12 [==============================] - 1s 83ms/step - loss: 0.0023 - val_loss: 0.0141\n",
            "Epoch 14/100\n",
            "12/12 [==============================] - 1s 84ms/step - loss: 0.0023 - val_loss: 0.0204\n",
            "Epoch 15/100\n",
            "12/12 [==============================] - 1s 84ms/step - loss: 0.0018 - val_loss: 0.0173\n",
            "Epoch 16/100\n",
            "12/12 [==============================] - 1s 84ms/step - loss: 0.0019 - val_loss: 0.0197\n",
            "Epoch 17/100\n",
            "12/12 [==============================] - 1s 85ms/step - loss: 0.0018 - val_loss: 0.0232\n",
            "Epoch 18/100\n",
            "12/12 [==============================] - 1s 83ms/step - loss: 0.0019 - val_loss: 0.0150\n",
            "Epoch 19/100\n",
            "12/12 [==============================] - 1s 84ms/step - loss: 0.0018 - val_loss: 0.0121\n",
            "Epoch 20/100\n",
            "12/12 [==============================] - 1s 84ms/step - loss: 0.0016 - val_loss: 0.0111\n",
            "Epoch 21/100\n",
            "12/12 [==============================] - 1s 83ms/step - loss: 0.0016 - val_loss: 0.0108\n",
            "Epoch 22/100\n",
            "12/12 [==============================] - 1s 83ms/step - loss: 0.0016 - val_loss: 0.0172\n",
            "Epoch 23/100\n",
            "12/12 [==============================] - 1s 83ms/step - loss: 0.0016 - val_loss: 0.0090\n",
            "Epoch 24/100\n",
            "12/12 [==============================] - 1s 84ms/step - loss: 0.0018 - val_loss: 0.0089\n",
            "Epoch 25/100\n",
            "12/12 [==============================] - 1s 82ms/step - loss: 0.0016 - val_loss: 0.0188\n",
            "Epoch 26/100\n",
            "12/12 [==============================] - 1s 83ms/step - loss: 0.0015 - val_loss: 0.0114\n",
            "Epoch 27/100\n",
            "12/12 [==============================] - 1s 84ms/step - loss: 0.0013 - val_loss: 0.0077\n",
            "Epoch 28/100\n",
            "12/12 [==============================] - 1s 82ms/step - loss: 0.0014 - val_loss: 0.0170\n",
            "Epoch 29/100\n",
            "12/12 [==============================] - 1s 83ms/step - loss: 0.0014 - val_loss: 0.0087\n",
            "Epoch 30/100\n",
            "12/12 [==============================] - 1s 82ms/step - loss: 0.0013 - val_loss: 0.0103\n",
            "Epoch 31/100\n",
            "12/12 [==============================] - 1s 83ms/step - loss: 0.0012 - val_loss: 0.0068\n",
            "Epoch 32/100\n",
            "12/12 [==============================] - 1s 83ms/step - loss: 0.0011 - val_loss: 0.0064\n",
            "Epoch 33/100\n",
            "12/12 [==============================] - 1s 83ms/step - loss: 0.0011 - val_loss: 0.0107\n",
            "Epoch 34/100\n",
            "12/12 [==============================] - 1s 84ms/step - loss: 0.0012 - val_loss: 0.0147\n",
            "Epoch 35/100\n",
            "12/12 [==============================] - 1s 83ms/step - loss: 0.0012 - val_loss: 0.0089\n",
            "Epoch 36/100\n",
            "12/12 [==============================] - 1s 83ms/step - loss: 0.0010 - val_loss: 0.0067\n",
            "Epoch 37/100\n",
            "12/12 [==============================] - 1s 83ms/step - loss: 0.0010 - val_loss: 0.0083\n",
            "Epoch 38/100\n",
            "12/12 [==============================] - 1s 81ms/step - loss: 9.6315e-04 - val_loss: 0.0082\n",
            "Epoch 39/100\n",
            "12/12 [==============================] - 1s 82ms/step - loss: 9.1643e-04 - val_loss: 0.0074\n",
            "Epoch 40/100\n",
            "12/12 [==============================] - 1s 83ms/step - loss: 9.5315e-04 - val_loss: 0.0132\n",
            "Epoch 41/100\n",
            "12/12 [==============================] - 1s 83ms/step - loss: 0.0010 - val_loss: 0.0079\n",
            "Epoch 42/100\n",
            "12/12 [==============================] - 1s 83ms/step - loss: 8.5900e-04 - val_loss: 0.0070\n",
            "Epoch 43/100\n",
            "12/12 [==============================] - 1s 83ms/step - loss: 8.3176e-04 - val_loss: 0.0091\n",
            "Epoch 44/100\n",
            "12/12 [==============================] - 1s 83ms/step - loss: 8.3534e-04 - val_loss: 0.0079\n",
            "Epoch 45/100\n",
            "12/12 [==============================] - 1s 83ms/step - loss: 8.4857e-04 - val_loss: 0.0086\n",
            "Epoch 46/100\n",
            "12/12 [==============================] - 1s 84ms/step - loss: 7.4474e-04 - val_loss: 0.0085\n",
            "Epoch 47/100\n",
            "12/12 [==============================] - 1s 82ms/step - loss: 8.1821e-04 - val_loss: 0.0077\n",
            "Epoch 48/100\n",
            "12/12 [==============================] - 1s 83ms/step - loss: 7.8043e-04 - val_loss: 0.0052\n",
            "Epoch 49/100\n",
            "12/12 [==============================] - 1s 83ms/step - loss: 7.0489e-04 - val_loss: 0.0075\n",
            "Epoch 50/100\n",
            "12/12 [==============================] - 1s 84ms/step - loss: 7.6101e-04 - val_loss: 0.0066\n",
            "Epoch 51/100\n",
            "12/12 [==============================] - 1s 83ms/step - loss: 6.4952e-04 - val_loss: 0.0045\n",
            "Epoch 52/100\n",
            "12/12 [==============================] - 1s 83ms/step - loss: 7.6542e-04 - val_loss: 0.0045\n",
            "Epoch 53/100\n",
            "12/12 [==============================] - 1s 83ms/step - loss: 8.0280e-04 - val_loss: 0.0150\n",
            "Epoch 54/100\n",
            "12/12 [==============================] - 1s 84ms/step - loss: 9.4563e-04 - val_loss: 0.0090\n",
            "Epoch 55/100\n",
            "12/12 [==============================] - 1s 85ms/step - loss: 8.6301e-04 - val_loss: 0.0067\n",
            "Epoch 56/100\n",
            "12/12 [==============================] - 1s 85ms/step - loss: 6.2992e-04 - val_loss: 0.0083\n",
            "Epoch 57/100\n",
            "12/12 [==============================] - 1s 84ms/step - loss: 6.5665e-04 - val_loss: 0.0050\n",
            "Epoch 58/100\n",
            "12/12 [==============================] - 1s 84ms/step - loss: 5.6799e-04 - val_loss: 0.0069\n",
            "Epoch 59/100\n",
            "12/12 [==============================] - 1s 82ms/step - loss: 5.9617e-04 - val_loss: 0.0051\n",
            "Epoch 60/100\n",
            "12/12 [==============================] - 1s 83ms/step - loss: 5.5385e-04 - val_loss: 0.0041\n",
            "Epoch 61/100\n",
            "12/12 [==============================] - 1s 83ms/step - loss: 5.5160e-04 - val_loss: 0.0065\n",
            "Epoch 62/100\n",
            "12/12 [==============================] - 1s 82ms/step - loss: 5.2811e-04 - val_loss: 0.0043\n",
            "Epoch 63/100\n",
            "12/12 [==============================] - 1s 82ms/step - loss: 5.1027e-04 - val_loss: 0.0071\n",
            "Epoch 64/100\n",
            "12/12 [==============================] - 1s 83ms/step - loss: 5.7320e-04 - val_loss: 0.0052\n",
            "Epoch 65/100\n",
            "12/12 [==============================] - 1s 84ms/step - loss: 5.1705e-04 - val_loss: 0.0042\n",
            "Epoch 66/100\n",
            "12/12 [==============================] - 1s 84ms/step - loss: 4.8517e-04 - val_loss: 0.0046\n",
            "Epoch 67/100\n",
            "12/12 [==============================] - 1s 82ms/step - loss: 4.9857e-04 - val_loss: 0.0041\n",
            "Epoch 68/100\n",
            "12/12 [==============================] - 1s 83ms/step - loss: 4.9892e-04 - val_loss: 0.0036\n",
            "Epoch 69/100\n",
            "12/12 [==============================] - 1s 83ms/step - loss: 4.5720e-04 - val_loss: 0.0032\n",
            "Epoch 70/100\n",
            "12/12 [==============================] - 1s 85ms/step - loss: 4.9042e-04 - val_loss: 0.0046\n",
            "Epoch 71/100\n",
            "12/12 [==============================] - 1s 84ms/step - loss: 4.9937e-04 - val_loss: 0.0042\n",
            "Epoch 72/100\n",
            "12/12 [==============================] - 1s 82ms/step - loss: 4.9672e-04 - val_loss: 0.0030\n",
            "Epoch 73/100\n",
            "12/12 [==============================] - 1s 84ms/step - loss: 6.5907e-04 - val_loss: 0.0029\n",
            "Epoch 74/100\n",
            "12/12 [==============================] - 1s 85ms/step - loss: 5.2276e-04 - val_loss: 0.0037\n",
            "Epoch 75/100\n",
            "12/12 [==============================] - 1s 84ms/step - loss: 5.0796e-04 - val_loss: 0.0030\n",
            "Epoch 76/100\n",
            "12/12 [==============================] - 1s 83ms/step - loss: 4.7926e-04 - val_loss: 0.0030\n",
            "Epoch 77/100\n",
            "12/12 [==============================] - 1s 85ms/step - loss: 5.3705e-04 - val_loss: 0.0029\n",
            "Epoch 78/100\n",
            "12/12 [==============================] - 1s 83ms/step - loss: 4.7123e-04 - val_loss: 0.0045\n",
            "Epoch 79/100\n",
            "12/12 [==============================] - 1s 84ms/step - loss: 4.6974e-04 - val_loss: 0.0036\n",
            "Epoch 80/100\n",
            "12/12 [==============================] - 1s 83ms/step - loss: 4.2092e-04 - val_loss: 0.0044\n",
            "Epoch 81/100\n",
            "12/12 [==============================] - 1s 84ms/step - loss: 4.2054e-04 - val_loss: 0.0032\n",
            "Epoch 82/100\n",
            "12/12 [==============================] - 1s 84ms/step - loss: 4.0593e-04 - val_loss: 0.0039\n",
            "Epoch 83/100\n",
            "12/12 [==============================] - 1s 84ms/step - loss: 4.0437e-04 - val_loss: 0.0030\n",
            "Epoch 84/100\n",
            "12/12 [==============================] - 1s 85ms/step - loss: 3.9395e-04 - val_loss: 0.0033\n",
            "Epoch 85/100\n",
            "12/12 [==============================] - 1s 83ms/step - loss: 4.4280e-04 - val_loss: 0.0027\n",
            "Epoch 86/100\n",
            "12/12 [==============================] - 1s 84ms/step - loss: 5.0865e-04 - val_loss: 0.0031\n",
            "Epoch 87/100\n",
            "12/12 [==============================] - 1s 83ms/step - loss: 6.3283e-04 - val_loss: 0.0036\n",
            "Epoch 88/100\n",
            "12/12 [==============================] - 1s 84ms/step - loss: 4.1324e-04 - val_loss: 0.0040\n",
            "Epoch 89/100\n",
            "12/12 [==============================] - 1s 83ms/step - loss: 3.7941e-04 - val_loss: 0.0060\n",
            "Epoch 90/100\n",
            "12/12 [==============================] - 1s 84ms/step - loss: 4.3478e-04 - val_loss: 0.0069\n",
            "Epoch 91/100\n",
            "12/12 [==============================] - 1s 85ms/step - loss: 5.3579e-04 - val_loss: 0.0032\n",
            "Epoch 92/100\n",
            "12/12 [==============================] - 1s 84ms/step - loss: 5.1650e-04 - val_loss: 0.0026\n",
            "Epoch 93/100\n",
            "12/12 [==============================] - 1s 84ms/step - loss: 4.1875e-04 - val_loss: 0.0030\n",
            "Epoch 94/100\n",
            "12/12 [==============================] - 1s 84ms/step - loss: 3.7506e-04 - val_loss: 0.0025\n",
            "Epoch 95/100\n",
            "12/12 [==============================] - 1s 84ms/step - loss: 3.7836e-04 - val_loss: 0.0030\n",
            "Epoch 96/100\n",
            "12/12 [==============================] - 1s 83ms/step - loss: 3.8156e-04 - val_loss: 0.0034\n",
            "Epoch 97/100\n",
            "12/12 [==============================] - 1s 84ms/step - loss: 3.9458e-04 - val_loss: 0.0024\n",
            "Epoch 98/100\n",
            "12/12 [==============================] - 1s 84ms/step - loss: 3.5732e-04 - val_loss: 0.0028\n",
            "Epoch 99/100\n",
            "12/12 [==============================] - 1s 84ms/step - loss: 3.7164e-04 - val_loss: 0.0024\n",
            "Epoch 100/100\n",
            "12/12 [==============================] - 1s 84ms/step - loss: 3.8247e-04 - val_loss: 0.0024\n"
          ]
        },
        {
          "output_type": "execute_result",
          "data": {
            "text/plain": [
              "<keras.callbacks.History at 0x7fc870090350>"
            ]
          },
          "metadata": {},
          "execution_count": 22
        }
      ]
    },
    {
      "cell_type": "markdown",
      "metadata": {
        "id": "sxZzmcKAhYQD"
      },
      "source": [
        "#**Model Evaluation**"
      ]
    },
    {
      "cell_type": "code",
      "metadata": {
        "id": "9yU9UB270V5q"
      },
      "source": [
        "train_predict=model.predict(X_train)\n",
        "test_predict=model.predict(X_test)"
      ],
      "execution_count": null,
      "outputs": []
    },
    {
      "cell_type": "code",
      "metadata": {
        "id": "rcKkxO0Q6war"
      },
      "source": [
        "train_predict=scaler.inverse_transform(train_predict)\n",
        "test_predict=scaler.inverse_transform(test_predict)"
      ],
      "execution_count": null,
      "outputs": []
    },
    {
      "cell_type": "code",
      "metadata": {
        "colab": {
          "base_uri": "https://localhost:8080/"
        },
        "id": "F86bJfCX600X",
        "outputId": "c176bc4e-1678-41ae-af53-3e62515a0493"
      },
      "source": [
        "import math\n",
        "from sklearn.metrics import mean_squared_error\n",
        "math.sqrt(mean_squared_error(y_train,train_predict))"
      ],
      "execution_count": null,
      "outputs": [
        {
          "output_type": "execute_result",
          "data": {
            "text/plain": [
              "141.65197416048005"
            ]
          },
          "metadata": {},
          "execution_count": 25
        }
      ]
    },
    {
      "cell_type": "code",
      "metadata": {
        "colab": {
          "base_uri": "https://localhost:8080/"
        },
        "id": "w6OBeFpS65oE",
        "outputId": "febb3b1a-5fcb-405f-bad6-64758fcb906e"
      },
      "source": [
        "math.sqrt(mean_squared_error(y_test,test_predict))"
      ],
      "execution_count": null,
      "outputs": [
        {
          "output_type": "execute_result",
          "data": {
            "text/plain": [
              "238.11281124389922"
            ]
          },
          "metadata": {},
          "execution_count": 26
        }
      ]
    },
    {
      "cell_type": "markdown",
      "metadata": {
        "id": "mNzDVg1A5Vzh"
      },
      "source": [
        "#**Plotting**"
      ]
    },
    {
      "cell_type": "code",
      "metadata": {
        "colab": {
          "base_uri": "https://localhost:8080/",
          "height": 265
        },
        "id": "i1odhOI37A-Y",
        "outputId": "bc3c5373-c952-4a3f-d9c1-66a405fbd279"
      },
      "source": [
        "### Plotting \n",
        "# shift train predictions for plotting\n",
        "look_back=100\n",
        "trainPredictPlot = np.empty_like(df_close)\n",
        "trainPredictPlot[:, :] = np.nan\n",
        "trainPredictPlot[look_back:len(train_predict)+look_back, :] = train_predict\n",
        "# shift test predictions for plotting\n",
        "testPredictPlot = np.empty_like(df_close)\n",
        "testPredictPlot[:, :] = np.nan\n",
        "testPredictPlot[len(train_predict)+(look_back*2)+1:len(df_close)-1, :] = test_predict\n",
        "# plot baseline and predictions\n",
        "plt.plot(df_close)\n",
        "plt.plot(trainPredictPlot)\n",
        "plt.plot(testPredictPlot)\n",
        "plt.show()"
      ],
      "execution_count": null,
      "outputs": [
        {
          "output_type": "display_data",
          "data": {
            "image/png": "[encoded data removed]",
            "text/plain": [
              "<Figure size 432x288 with 1 Axes>"
            ]
          },
          "metadata": {
            "needs_background": "light"
          }
        }
      ]
    },
    {
      "cell_type": "code",
      "metadata": {
        "colab": {
          "base_uri": "https://localhost:8080/"
        },
        "id": "wtA-CM_DjHWb",
        "outputId": "b26ec342-c9db-4fef-9b86-886b7861bbce"
      },
      "source": [
        "len(test_data)"
      ],
      "execution_count": null,
      "outputs": [
        {
          "output_type": "execute_result",
          "data": {
            "text/plain": [
              "441"
            ]
          },
          "metadata": {},
          "execution_count": 31
        }
      ]
    },
    {
      "cell_type": "code",
      "metadata": {
        "colab": {
          "base_uri": "https://localhost:8080/"
        },
        "id": "LKNW0--ljQle",
        "outputId": "ade2af1d-ff58-42b7-8366-e96372cd9ed4"
      },
      "source": [
        "x_input=test_data[341:].reshape(1,-1)\n",
        "x_input.shape"
      ],
      "execution_count": null,
      "outputs": [
        {
          "output_type": "execute_result",
          "data": {
            "text/plain": [
              "(1, 100)"
            ]
          },
          "metadata": {},
          "execution_count": 32
        }
      ]
    },
    {
      "cell_type": "code",
      "metadata": {
        "id": "OA73JzVA3ZY8"
      },
      "source": [
        "temp_input=list(x_input)\n",
        "temp_input=temp_input[0].tolist()"
      ],
      "execution_count": null,
      "outputs": []
    },
    {
      "cell_type": "code",
      "metadata": {
        "colab": {
          "base_uri": "https://localhost:8080/"
        },
        "id": "WhMg-WJy5vIq",
        "outputId": "f0c0d33b-6b3a-48f2-d7fe-5b5a26d7ac08"
      },
      "source": [
        "temp_input"
      ],
      "execution_count": null,
      "outputs": [
        {
          "output_type": "execute_result",
          "data": {
            "text/plain": [
              "[1.5978465891229172,\n",
              " 1.6505029864822385,\n",
              " 1.627554228230116,\n",
              " 1.646180446400503,\n",
              " 1.6350990254636906,\n",
              " 1.672823011631562,\n",
              " 1.72343602640679,\n",
              " 1.7289374410562712,\n",
              " 1.7810436969506442,\n",
              " 1.7474064759509589,\n",
              " 1.7368751964790943,\n",
              " 1.7675259352404904,\n",
              " 1.794954416850047,\n",
              " 1.7779786230745045,\n",
              " 1.7868594781515243,\n",
              " 1.798883998742534,\n",
              " 1.7916535680603585,\n",
              " 1.7180917950330081,\n",
              " 1.7867808865136747,\n",
              " 1.839044325683747,\n",
              " 1.8353505187048098,\n",
              " 1.7224929267525932,\n",
              " 1.7158126375353664,\n",
              " 1.795897516504244,\n",
              " 1.8163313423451743,\n",
              " 1.8458817981766735,\n",
              " 1.8051713297705123,\n",
              " 1.817117258723672,\n",
              " 1.8018704809808237,\n",
              " 1.8615215341087707,\n",
              " 1.8432096824897832,\n",
              " 1.8438384155925807,\n",
              " 1.79707639107199,\n",
              " 1.8333857277585666,\n",
              " 1.8072933039924552,\n",
              " 1.750314366551399,\n",
              " 1.6334486010688463,\n",
              " 1.5540710468406158,\n",
              " 1.5899874253379438,\n",
              " 1.439641622131405,\n",
              " 1.4383841559258097,\n",
              " 1.6383998742533792,\n",
              " 1.5638164099339829,\n",
              " 1.6692863879283246,\n",
              " 1.5921093995598867,\n",
              " 1.5615372524363407,\n",
              " 1.3818767683118516,\n",
              " 1.5325369380697893,\n",
              " 1.4546526249607044,\n",
              " 1.2408833700094308,\n",
              " 1.4746149009745366,\n",
              " 1.193571204023892,\n",
              " 1.2772712983338574,\n",
              " 1.2286230745048723,\n",
              " 1.213769254951273,\n",
              " 1.0916378497327885,\n",
              " 1.0533637220999683,\n",
              " 1.230273498899717,\n",
              " 1.2195850361521532,\n",
              " 1.321125432254008,\n",
              " 1.237032379754794,\n",
              " 1.2925966677145553,\n",
              " 1.2885099025463687,\n",
              " 1.1833542911034263,\n",
              " 1.2149481295190192,\n",
              " 1.1872838729959132,\n",
              " 1.3527978623074506,\n",
              " 1.3289060044011318,\n",
              " 1.381090851933354,\n",
              " 1.396180446400503,\n",
              " 1.4375196479094625,\n",
              " 1.5459761081420935,\n",
              " 1.5253850990254638,\n",
              " 1.543146809179503,\n",
              " 1.5125746620559575,\n",
              " 1.4664413706381643,\n",
              " 1.3991669286387927,\n",
              " 1.4599182646966362,\n",
              " 1.4515089594467145,\n",
              " 1.5139107198994028,\n",
              " 1.5154825526563975,\n",
              " 1.4794089908833699,\n",
              " 1.5513203395158754,\n",
              " 1.5990254636906633,\n",
              " 1.5618516189877396,\n",
              " 1.5939955988682804,\n",
              " 1.628575919522163,\n",
              " 1.6527035523420306,\n",
              " 1.6771455517132976,\n",
              " 1.727365608299277,\n",
              " 1.7657183275699464,\n",
              " 1.737425337944043,\n",
              " 1.707874882112543,\n",
              " 1.722728701666143,\n",
              " 1.7083464319396415,\n",
              " 1.7653253693806978,\n",
              " 1.7510216912920464,\n",
              " 1.798883998742534,\n",
              " 1.7801791889342975,\n",
              " 1.7962118830556428]"
            ]
          },
          "metadata": {},
          "execution_count": 34
        }
      ]
    },
    {
      "cell_type": "markdown",
      "metadata": {
        "id": "_uVLG6UY9Qal"
      },
      "source": [
        "#**Forecasting next 30 days**"
      ]
    },
    {
      "cell_type": "code",
      "metadata": {
        "colab": {
          "base_uri": "https://localhost:8080/"
        },
        "id": "5zroiuFB6bcg",
        "outputId": "5c4529b8-d851-4d12-970e-e7787acf3c05"
      },
      "source": [
        "# demonstrate prediction for next 30 days\n",
        "\n",
        "lst_output=[]\n",
        "n_steps=100\n",
        "i=0\n",
        "while(i<30):\n",
        "    \n",
        "    if(len(temp_input)>100):\n",
        "        #print(temp_input)\n",
        "        x_input=np.array(temp_input[1:])\n",
        "        print(\"{} day input {}\".format(i,x_input))\n",
        "        x_input=x_input.reshape(1,-1)\n",
        "        x_input = x_input.reshape((1, n_steps, 1))\n",
        "        #print(x_input)\n",
        "        yhat = model.predict(x_input)\n",
        "        print(\"{} day output {}\".format(i,yhat))\n",
        "        temp_input.extend(yhat[0].tolist())\n",
        "        temp_input=temp_input[1:]\n",
        "        #print(temp_input)\n",
        "        lst_output.extend(yhat.tolist())\n",
        "        i=i+1\n",
        "    else:\n",
        "        x_input = x_input.reshape((1, n_steps,1))\n",
        "        yhat = model.predict(x_input)\n",
        "        print(yhat[0])\n",
        "        temp_input.extend(yhat[0].tolist())\n",
        "        print(len(temp_input))\n",
        "        lst_output.extend(yhat.tolist())\n",
        "        i=i+1\n",
        "    \n",
        "\n",
        "print(lst_output)"
      ],
      "execution_count": null,
      "outputs": [
        {
          "output_type": "stream",
          "name": "stdout",
          "text": [
            "[1.7686547]\n",
            "101\n",
            "1 day input [1.65050299 1.62755423 1.64618045 1.63509903 1.67282301 1.72343603\n",
            " 1.72893744 1.7810437  1.74740648 1.7368752  1.76752594 1.79495442\n",
            " 1.77797862 1.78685948 1.798884   1.79165357 1.7180918  1.78678089\n",
            " 1.83904433 1.83535052 1.72249293 1.71581264 1.79589752 1.81633134\n",
            " 1.8458818  1.80517133 1.81711726 1.80187048 1.86152153 1.84320968\n",
            " 1.84383842 1.79707639 1.83338573 1.8072933  1.75031437 1.6334486\n",
            " 1.55407105 1.58998743 1.43964162 1.43838416 1.63839987 1.56381641\n",
            " 1.66928639 1.5921094  1.56153725 1.38187677 1.53253694 1.45465262\n",
            " 1.24088337 1.4746149  1.1935712  1.2772713  1.22862307 1.21376925\n",
            " 1.09163785 1.05336372 1.2302735  1.21958504 1.32112543 1.23703238\n",
            " 1.29259667 1.2885099  1.18335429 1.21494813 1.18728387 1.35279786\n",
            " 1.328906   1.38109085 1.39618045 1.43751965 1.54597611 1.5253851\n",
            " 1.54314681 1.51257466 1.46644137 1.39916693 1.45991826 1.45150896\n",
            " 1.51391072 1.51548255 1.47940899 1.55132034 1.59902546 1.56185162\n",
            " 1.5939956  1.62857592 1.65270355 1.67714555 1.72736561 1.76571833\n",
            " 1.73742534 1.70787488 1.7227287  1.70834643 1.76532537 1.75102169\n",
            " 1.798884   1.78017919 1.79621188 1.7686547 ]\n",
            "1 day output [[1.7605642]]\n",
            "2 day input [1.62755423 1.64618045 1.63509903 1.67282301 1.72343603 1.72893744\n",
            " 1.7810437  1.74740648 1.7368752  1.76752594 1.79495442 1.77797862\n",
            " 1.78685948 1.798884   1.79165357 1.7180918  1.78678089 1.83904433\n",
            " 1.83535052 1.72249293 1.71581264 1.79589752 1.81633134 1.8458818\n",
            " 1.80517133 1.81711726 1.80187048 1.86152153 1.84320968 1.84383842\n",
            " 1.79707639 1.83338573 1.8072933  1.75031437 1.6334486  1.55407105\n",
            " 1.58998743 1.43964162 1.43838416 1.63839987 1.56381641 1.66928639\n",
            " 1.5921094  1.56153725 1.38187677 1.53253694 1.45465262 1.24088337\n",
            " 1.4746149  1.1935712  1.2772713  1.22862307 1.21376925 1.09163785\n",
            " 1.05336372 1.2302735  1.21958504 1.32112543 1.23703238 1.29259667\n",
            " 1.2885099  1.18335429 1.21494813 1.18728387 1.35279786 1.328906\n",
            " 1.38109085 1.39618045 1.43751965 1.54597611 1.5253851  1.54314681\n",
            " 1.51257466 1.46644137 1.39916693 1.45991826 1.45150896 1.51391072\n",
            " 1.51548255 1.47940899 1.55132034 1.59902546 1.56185162 1.5939956\n",
            " 1.62857592 1.65270355 1.67714555 1.72736561 1.76571833 1.73742534\n",
            " 1.70787488 1.7227287  1.70834643 1.76532537 1.75102169 1.798884\n",
            " 1.78017919 1.79621188 1.7686547  1.76056421]\n",
            "2 day output [[1.7524741]]\n",
            "3 day input [1.64618045 1.63509903 1.67282301 1.72343603 1.72893744 1.7810437\n",
            " 1.74740648 1.7368752  1.76752594 1.79495442 1.77797862 1.78685948\n",
            " 1.798884   1.79165357 1.7180918  1.78678089 1.83904433 1.83535052\n",
            " 1.72249293 1.71581264 1.79589752 1.81633134 1.8458818  1.80517133\n",
            " 1.81711726 1.80187048 1.86152153 1.84320968 1.84383842 1.79707639\n",
            " 1.83338573 1.8072933  1.75031437 1.6334486  1.55407105 1.58998743\n",
            " 1.43964162 1.43838416 1.63839987 1.56381641 1.66928639 1.5921094\n",
            " 1.56153725 1.38187677 1.53253694 1.45465262 1.24088337 1.4746149\n",
            " 1.1935712  1.2772713  1.22862307 1.21376925 1.09163785 1.05336372\n",
            " 1.2302735  1.21958504 1.32112543 1.23703238 1.29259667 1.2885099\n",
            " 1.18335429 1.21494813 1.18728387 1.35279786 1.328906   1.38109085\n",
            " 1.39618045 1.43751965 1.54597611 1.5253851  1.54314681 1.51257466\n",
            " 1.46644137 1.39916693 1.45991826 1.45150896 1.51391072 1.51548255\n",
            " 1.47940899 1.55132034 1.59902546 1.56185162 1.5939956  1.62857592\n",
            " 1.65270355 1.67714555 1.72736561 1.76571833 1.73742534 1.70787488\n",
            " 1.7227287  1.70834643 1.76532537 1.75102169 1.798884   1.78017919\n",
            " 1.79621188 1.7686547  1.76056421 1.75247407]\n",
            "3 day output [[1.746698]]\n",
            "4 day input [1.63509903 1.67282301 1.72343603 1.72893744 1.7810437  1.74740648\n",
            " 1.7368752  1.76752594 1.79495442 1.77797862 1.78685948 1.798884\n",
            " 1.79165357 1.7180918  1.78678089 1.83904433 1.83535052 1.72249293\n",
            " 1.71581264 1.79589752 1.81633134 1.8458818  1.80517133 1.81711726\n",
            " 1.80187048 1.86152153 1.84320968 1.84383842 1.79707639 1.83338573\n",
            " 1.8072933  1.75031437 1.6334486  1.55407105 1.58998743 1.43964162\n",
            " 1.43838416 1.63839987 1.56381641 1.66928639 1.5921094  1.56153725\n",
            " 1.38187677 1.53253694 1.45465262 1.24088337 1.4746149  1.1935712\n",
            " 1.2772713  1.22862307 1.21376925 1.09163785 1.05336372 1.2302735\n",
            " 1.21958504 1.32112543 1.23703238 1.29259667 1.2885099  1.18335429\n",
            " 1.21494813 1.18728387 1.35279786 1.328906   1.38109085 1.39618045\n",
            " 1.43751965 1.54597611 1.5253851  1.54314681 1.51257466 1.46644137\n",
            " 1.39916693 1.45991826 1.45150896 1.51391072 1.51548255 1.47940899\n",
            " 1.55132034 1.59902546 1.56185162 1.5939956  1.62857592 1.65270355\n",
            " 1.67714555 1.72736561 1.76571833 1.73742534 1.70787488 1.7227287\n",
            " 1.70834643 1.76532537 1.75102169 1.798884   1.78017919 1.79621188\n",
            " 1.7686547  1.76056421 1.75247407 1.74669802]\n",
            "4 day output [[1.7423989]]\n",
            "5 day input [1.67282301 1.72343603 1.72893744 1.7810437  1.74740648 1.7368752\n",
            " 1.76752594 1.79495442 1.77797862 1.78685948 1.798884   1.79165357\n",
            " 1.7180918  1.78678089 1.83904433 1.83535052 1.72249293 1.71581264\n",
            " 1.79589752 1.81633134 1.8458818  1.80517133 1.81711726 1.80187048\n",
            " 1.86152153 1.84320968 1.84383842 1.79707639 1.83338573 1.8072933\n",
            " 1.75031437 1.6334486  1.55407105 1.58998743 1.43964162 1.43838416\n",
            " 1.63839987 1.56381641 1.66928639 1.5921094  1.56153725 1.38187677\n",
            " 1.53253694 1.45465262 1.24088337 1.4746149  1.1935712  1.2772713\n",
            " 1.22862307 1.21376925 1.09163785 1.05336372 1.2302735  1.21958504\n",
            " 1.32112543 1.23703238 1.29259667 1.2885099  1.18335429 1.21494813\n",
            " 1.18728387 1.35279786 1.328906   1.38109085 1.39618045 1.43751965\n",
            " 1.54597611 1.5253851  1.54314681 1.51257466 1.46644137 1.39916693\n",
            " 1.45991826 1.45150896 1.51391072 1.51548255 1.47940899 1.55132034\n",
            " 1.59902546 1.56185162 1.5939956  1.62857592 1.65270355 1.67714555\n",
            " 1.72736561 1.76571833 1.73742534 1.70787488 1.7227287  1.70834643\n",
            " 1.76532537 1.75102169 1.798884   1.78017919 1.79621188 1.7686547\n",
            " 1.76056421 1.75247407 1.74669802 1.74239886]\n",
            "5 day output [[1.7388098]]\n",
            "6 day input [1.72343603 1.72893744 1.7810437  1.74740648 1.7368752  1.76752594\n",
            " 1.79495442 1.77797862 1.78685948 1.798884   1.79165357 1.7180918\n",
            " 1.78678089 1.83904433 1.83535052 1.72249293 1.71581264 1.79589752\n",
            " 1.81633134 1.8458818  1.80517133 1.81711726 1.80187048 1.86152153\n",
            " 1.84320968 1.84383842 1.79707639 1.83338573 1.8072933  1.75031437\n",
            " 1.6334486  1.55407105 1.58998743 1.43964162 1.43838416 1.63839987\n",
            " 1.56381641 1.66928639 1.5921094  1.56153725 1.38187677 1.53253694\n",
            " 1.45465262 1.24088337 1.4746149  1.1935712  1.2772713  1.22862307\n",
            " 1.21376925 1.09163785 1.05336372 1.2302735  1.21958504 1.32112543\n",
            " 1.23703238 1.29259667 1.2885099  1.18335429 1.21494813 1.18728387\n",
            " 1.35279786 1.328906   1.38109085 1.39618045 1.43751965 1.54597611\n",
            " 1.5253851  1.54314681 1.51257466 1.46644137 1.39916693 1.45991826\n",
            " 1.45150896 1.51391072 1.51548255 1.47940899 1.55132034 1.59902546\n",
            " 1.56185162 1.5939956  1.62857592 1.65270355 1.67714555 1.72736561\n",
            " 1.76571833 1.73742534 1.70787488 1.7227287  1.70834643 1.76532537\n",
            " 1.75102169 1.798884   1.78017919 1.79621188 1.7686547  1.76056421\n",
            " 1.75247407 1.74669802 1.74239886 1.73880982]\n",
            "6 day output [[1.73543]]\n",
            "7 day input [1.72893744 1.7810437  1.74740648 1.7368752  1.76752594 1.79495442\n",
            " 1.77797862 1.78685948 1.798884   1.79165357 1.7180918  1.78678089\n",
            " 1.83904433 1.83535052 1.72249293 1.71581264 1.79589752 1.81633134\n",
            " 1.8458818  1.80517133 1.81711726 1.80187048 1.86152153 1.84320968\n",
            " 1.84383842 1.79707639 1.83338573 1.8072933  1.75031437 1.6334486\n",
            " 1.55407105 1.58998743 1.43964162 1.43838416 1.63839987 1.56381641\n",
            " 1.66928639 1.5921094  1.56153725 1.38187677 1.53253694 1.45465262\n",
            " 1.24088337 1.4746149  1.1935712  1.2772713  1.22862307 1.21376925\n",
            " 1.09163785 1.05336372 1.2302735  1.21958504 1.32112543 1.23703238\n",
            " 1.29259667 1.2885099  1.18335429 1.21494813 1.18728387 1.35279786\n",
            " 1.328906   1.38109085 1.39618045 1.43751965 1.54597611 1.5253851\n",
            " 1.54314681 1.51257466 1.46644137 1.39916693 1.45991826 1.45150896\n",
            " 1.51391072 1.51548255 1.47940899 1.55132034 1.59902546 1.56185162\n",
            " 1.5939956  1.62857592 1.65270355 1.67714555 1.72736561 1.76571833\n",
            " 1.73742534 1.70787488 1.7227287  1.70834643 1.76532537 1.75102169\n",
            " 1.798884   1.78017919 1.79621188 1.7686547  1.76056421 1.75247407\n",
            " 1.74669802 1.74239886 1.73880982 1.73543   ]\n",
            "7 day output [[1.7320018]]\n",
            "8 day input [1.7810437  1.74740648 1.7368752  1.76752594 1.79495442 1.77797862\n",
            " 1.78685948 1.798884   1.79165357 1.7180918  1.78678089 1.83904433\n",
            " 1.83535052 1.72249293 1.71581264 1.79589752 1.81633134 1.8458818\n",
            " 1.80517133 1.81711726 1.80187048 1.86152153 1.84320968 1.84383842\n",
            " 1.79707639 1.83338573 1.8072933  1.75031437 1.6334486  1.55407105\n",
            " 1.58998743 1.43964162 1.43838416 1.63839987 1.56381641 1.66928639\n",
            " 1.5921094  1.56153725 1.38187677 1.53253694 1.45465262 1.24088337\n",
            " 1.4746149  1.1935712  1.2772713  1.22862307 1.21376925 1.09163785\n",
            " 1.05336372 1.2302735  1.21958504 1.32112543 1.23703238 1.29259667\n",
            " 1.2885099  1.18335429 1.21494813 1.18728387 1.35279786 1.328906\n",
            " 1.38109085 1.39618045 1.43751965 1.54597611 1.5253851  1.54314681\n",
            " 1.51257466 1.46644137 1.39916693 1.45991826 1.45150896 1.51391072\n",
            " 1.51548255 1.47940899 1.55132034 1.59902546 1.56185162 1.5939956\n",
            " 1.62857592 1.65270355 1.67714555 1.72736561 1.76571833 1.73742534\n",
            " 1.70787488 1.7227287  1.70834643 1.76532537 1.75102169 1.798884\n",
            " 1.78017919 1.79621188 1.7686547  1.76056421 1.75247407 1.74669802\n",
            " 1.74239886 1.73880982 1.73543    1.73200178]\n",
            "8 day output [[1.7284592]]\n",
            "9 day input [1.74740648 1.7368752  1.76752594 1.79495442 1.77797862 1.78685948\n",
            " 1.798884   1.79165357 1.7180918  1.78678089 1.83904433 1.83535052\n",
            " 1.72249293 1.71581264 1.79589752 1.81633134 1.8458818  1.80517133\n",
            " 1.81711726 1.80187048 1.86152153 1.84320968 1.84383842 1.79707639\n",
            " 1.83338573 1.8072933  1.75031437 1.6334486  1.55407105 1.58998743\n",
            " 1.43964162 1.43838416 1.63839987 1.56381641 1.66928639 1.5921094\n",
            " 1.56153725 1.38187677 1.53253694 1.45465262 1.24088337 1.4746149\n",
            " 1.1935712  1.2772713  1.22862307 1.21376925 1.09163785 1.05336372\n",
            " 1.2302735  1.21958504 1.32112543 1.23703238 1.29259667 1.2885099\n",
            " 1.18335429 1.21494813 1.18728387 1.35279786 1.328906   1.38109085\n",
            " 1.39618045 1.43751965 1.54597611 1.5253851  1.54314681 1.51257466\n",
            " 1.46644137 1.39916693 1.45991826 1.45150896 1.51391072 1.51548255\n",
            " 1.47940899 1.55132034 1.59902546 1.56185162 1.5939956  1.62857592\n",
            " 1.65270355 1.67714555 1.72736561 1.76571833 1.73742534 1.70787488\n",
            " 1.7227287  1.70834643 1.76532537 1.75102169 1.798884   1.78017919\n",
            " 1.79621188 1.7686547  1.76056421 1.75247407 1.74669802 1.74239886\n",
            " 1.73880982 1.73543    1.73200178 1.72845924]\n",
            "9 day output [[1.724857]]\n",
            "10 day input [1.7368752  1.76752594 1.79495442 1.77797862 1.78685948 1.798884\n",
            " 1.79165357 1.7180918  1.78678089 1.83904433 1.83535052 1.72249293\n",
            " 1.71581264 1.79589752 1.81633134 1.8458818  1.80517133 1.81711726\n",
            " 1.80187048 1.86152153 1.84320968 1.84383842 1.79707639 1.83338573\n",
            " 1.8072933  1.75031437 1.6334486  1.55407105 1.58998743 1.43964162\n",
            " 1.43838416 1.63839987 1.56381641 1.66928639 1.5921094  1.56153725\n",
            " 1.38187677 1.53253694 1.45465262 1.24088337 1.4746149  1.1935712\n",
            " 1.2772713  1.22862307 1.21376925 1.09163785 1.05336372 1.2302735\n",
            " 1.21958504 1.32112543 1.23703238 1.29259667 1.2885099  1.18335429\n",
            " 1.21494813 1.18728387 1.35279786 1.328906   1.38109085 1.39618045\n",
            " 1.43751965 1.54597611 1.5253851  1.54314681 1.51257466 1.46644137\n",
            " 1.39916693 1.45991826 1.45150896 1.51391072 1.51548255 1.47940899\n",
            " 1.55132034 1.59902546 1.56185162 1.5939956  1.62857592 1.65270355\n",
            " 1.67714555 1.72736561 1.76571833 1.73742534 1.70787488 1.7227287\n",
            " 1.70834643 1.76532537 1.75102169 1.798884   1.78017919 1.79621188\n",
            " 1.7686547  1.76056421 1.75247407 1.74669802 1.74239886 1.73880982\n",
            " 1.73543    1.73200178 1.72845924 1.72485697]\n",
            "10 day output [[1.7213067]]\n",
            "11 day input [1.76752594 1.79495442 1.77797862 1.78685948 1.798884   1.79165357\n",
            " 1.7180918  1.78678089 1.83904433 1.83535052 1.72249293 1.71581264\n",
            " 1.79589752 1.81633134 1.8458818  1.80517133 1.81711726 1.80187048\n",
            " 1.86152153 1.84320968 1.84383842 1.79707639 1.83338573 1.8072933\n",
            " 1.75031437 1.6334486  1.55407105 1.58998743 1.43964162 1.43838416\n",
            " 1.63839987 1.56381641 1.66928639 1.5921094  1.56153725 1.38187677\n",
            " 1.53253694 1.45465262 1.24088337 1.4746149  1.1935712  1.2772713\n",
            " 1.22862307 1.21376925 1.09163785 1.05336372 1.2302735  1.21958504\n",
            " 1.32112543 1.23703238 1.29259667 1.2885099  1.18335429 1.21494813\n",
            " 1.18728387 1.35279786 1.328906   1.38109085 1.39618045 1.43751965\n",
            " 1.54597611 1.5253851  1.54314681 1.51257466 1.46644137 1.39916693\n",
            " 1.45991826 1.45150896 1.51391072 1.51548255 1.47940899 1.55132034\n",
            " 1.59902546 1.56185162 1.5939956  1.62857592 1.65270355 1.67714555\n",
            " 1.72736561 1.76571833 1.73742534 1.70787488 1.7227287  1.70834643\n",
            " 1.76532537 1.75102169 1.798884   1.78017919 1.79621188 1.7686547\n",
            " 1.76056421 1.75247407 1.74669802 1.74239886 1.73880982 1.73543\n",
            " 1.73200178 1.72845924 1.72485697 1.72130668]\n",
            "11 day output [[1.7179297]]\n",
            "12 day input [1.79495442 1.77797862 1.78685948 1.798884   1.79165357 1.7180918\n",
            " 1.78678089 1.83904433 1.83535052 1.72249293 1.71581264 1.79589752\n",
            " 1.81633134 1.8458818  1.80517133 1.81711726 1.80187048 1.86152153\n",
            " 1.84320968 1.84383842 1.79707639 1.83338573 1.8072933  1.75031437\n",
            " 1.6334486  1.55407105 1.58998743 1.43964162 1.43838416 1.63839987\n",
            " 1.56381641 1.66928639 1.5921094  1.56153725 1.38187677 1.53253694\n",
            " 1.45465262 1.24088337 1.4746149  1.1935712  1.2772713  1.22862307\n",
            " 1.21376925 1.09163785 1.05336372 1.2302735  1.21958504 1.32112543\n",
            " 1.23703238 1.29259667 1.2885099  1.18335429 1.21494813 1.18728387\n",
            " 1.35279786 1.328906   1.38109085 1.39618045 1.43751965 1.54597611\n",
            " 1.5253851  1.54314681 1.51257466 1.46644137 1.39916693 1.45991826\n",
            " 1.45150896 1.51391072 1.51548255 1.47940899 1.55132034 1.59902546\n",
            " 1.56185162 1.5939956  1.62857592 1.65270355 1.67714555 1.72736561\n",
            " 1.76571833 1.73742534 1.70787488 1.7227287  1.70834643 1.76532537\n",
            " 1.75102169 1.798884   1.78017919 1.79621188 1.7686547  1.76056421\n",
            " 1.75247407 1.74669802 1.74239886 1.73880982 1.73543    1.73200178\n",
            " 1.72845924 1.72485697 1.72130668 1.71792972]\n",
            "12 day output [[1.7148288]]\n",
            "13 day input [1.77797862 1.78685948 1.798884   1.79165357 1.7180918  1.78678089\n",
            " 1.83904433 1.83535052 1.72249293 1.71581264 1.79589752 1.81633134\n",
            " 1.8458818  1.80517133 1.81711726 1.80187048 1.86152153 1.84320968\n",
            " 1.84383842 1.79707639 1.83338573 1.8072933  1.75031437 1.6334486\n",
            " 1.55407105 1.58998743 1.43964162 1.43838416 1.63839987 1.56381641\n",
            " 1.66928639 1.5921094  1.56153725 1.38187677 1.53253694 1.45465262\n",
            " 1.24088337 1.4746149  1.1935712  1.2772713  1.22862307 1.21376925\n",
            " 1.09163785 1.05336372 1.2302735  1.21958504 1.32112543 1.23703238\n",
            " 1.29259667 1.2885099  1.18335429 1.21494813 1.18728387 1.35279786\n",
            " 1.328906   1.38109085 1.39618045 1.43751965 1.54597611 1.5253851\n",
            " 1.54314681 1.51257466 1.46644137 1.39916693 1.45991826 1.45150896\n",
            " 1.51391072 1.51548255 1.47940899 1.55132034 1.59902546 1.56185162\n",
            " 1.5939956  1.62857592 1.65270355 1.67714555 1.72736561 1.76571833\n",
            " 1.73742534 1.70787488 1.7227287  1.70834643 1.76532537 1.75102169\n",
            " 1.798884   1.78017919 1.79621188 1.7686547  1.76056421 1.75247407\n",
            " 1.74669802 1.74239886 1.73880982 1.73543    1.73200178 1.72845924\n",
            " 1.72485697 1.72130668 1.71792972 1.71482885]\n",
            "13 day output [[1.7120818]]\n",
            "14 day input [1.78685948 1.798884   1.79165357 1.7180918  1.78678089 1.83904433\n",
            " 1.83535052 1.72249293 1.71581264 1.79589752 1.81633134 1.8458818\n",
            " 1.80517133 1.81711726 1.80187048 1.86152153 1.84320968 1.84383842\n",
            " 1.79707639 1.83338573 1.8072933  1.75031437 1.6334486  1.55407105\n",
            " 1.58998743 1.43964162 1.43838416 1.63839987 1.56381641 1.66928639\n",
            " 1.5921094  1.56153725 1.38187677 1.53253694 1.45465262 1.24088337\n",
            " 1.4746149  1.1935712  1.2772713  1.22862307 1.21376925 1.09163785\n",
            " 1.05336372 1.2302735  1.21958504 1.32112543 1.23703238 1.29259667\n",
            " 1.2885099  1.18335429 1.21494813 1.18728387 1.35279786 1.328906\n",
            " 1.38109085 1.39618045 1.43751965 1.54597611 1.5253851  1.54314681\n",
            " 1.51257466 1.46644137 1.39916693 1.45991826 1.45150896 1.51391072\n",
            " 1.51548255 1.47940899 1.55132034 1.59902546 1.56185162 1.5939956\n",
            " 1.62857592 1.65270355 1.67714555 1.72736561 1.76571833 1.73742534\n",
            " 1.70787488 1.7227287  1.70834643 1.76532537 1.75102169 1.798884\n",
            " 1.78017919 1.79621188 1.7686547  1.76056421 1.75247407 1.74669802\n",
            " 1.74239886 1.73880982 1.73543    1.73200178 1.72845924 1.72485697\n",
            " 1.72130668 1.71792972 1.71482885 1.71208179]\n",
            "14 day output [[1.7097386]]\n",
            "15 day input [1.798884   1.79165357 1.7180918  1.78678089 1.83904433 1.83535052\n",
            " 1.72249293 1.71581264 1.79589752 1.81633134 1.8458818  1.80517133\n",
            " 1.81711726 1.80187048 1.86152153 1.84320968 1.84383842 1.79707639\n",
            " 1.83338573 1.8072933  1.75031437 1.6334486  1.55407105 1.58998743\n",
            " 1.43964162 1.43838416 1.63839987 1.56381641 1.66928639 1.5921094\n",
            " 1.56153725 1.38187677 1.53253694 1.45465262 1.24088337 1.4746149\n",
            " 1.1935712  1.2772713  1.22862307 1.21376925 1.09163785 1.05336372\n",
            " 1.2302735  1.21958504 1.32112543 1.23703238 1.29259667 1.2885099\n",
            " 1.18335429 1.21494813 1.18728387 1.35279786 1.328906   1.38109085\n",
            " 1.39618045 1.43751965 1.54597611 1.5253851  1.54314681 1.51257466\n",
            " 1.46644137 1.39916693 1.45991826 1.45150896 1.51391072 1.51548255\n",
            " 1.47940899 1.55132034 1.59902546 1.56185162 1.5939956  1.62857592\n",
            " 1.65270355 1.67714555 1.72736561 1.76571833 1.73742534 1.70787488\n",
            " 1.7227287  1.70834643 1.76532537 1.75102169 1.798884   1.78017919\n",
            " 1.79621188 1.7686547  1.76056421 1.75247407 1.74669802 1.74239886\n",
            " 1.73880982 1.73543    1.73200178 1.72845924 1.72485697 1.72130668\n",
            " 1.71792972 1.71482885 1.71208179 1.70973861]\n",
            "15 day output [[1.7078252]]\n",
            "16 day input [1.79165357 1.7180918  1.78678089 1.83904433 1.83535052 1.72249293\n",
            " 1.71581264 1.79589752 1.81633134 1.8458818  1.80517133 1.81711726\n",
            " 1.80187048 1.86152153 1.84320968 1.84383842 1.79707639 1.83338573\n",
            " 1.8072933  1.75031437 1.6334486  1.55407105 1.58998743 1.43964162\n",
            " 1.43838416 1.63839987 1.56381641 1.66928639 1.5921094  1.56153725\n",
            " 1.38187677 1.53253694 1.45465262 1.24088337 1.4746149  1.1935712\n",
            " 1.2772713  1.22862307 1.21376925 1.09163785 1.05336372 1.2302735\n",
            " 1.21958504 1.32112543 1.23703238 1.29259667 1.2885099  1.18335429\n",
            " 1.21494813 1.18728387 1.35279786 1.328906   1.38109085 1.39618045\n",
            " 1.43751965 1.54597611 1.5253851  1.54314681 1.51257466 1.46644137\n",
            " 1.39916693 1.45991826 1.45150896 1.51391072 1.51548255 1.47940899\n",
            " 1.55132034 1.59902546 1.56185162 1.5939956  1.62857592 1.65270355\n",
            " 1.67714555 1.72736561 1.76571833 1.73742534 1.70787488 1.7227287\n",
            " 1.70834643 1.76532537 1.75102169 1.798884   1.78017919 1.79621188\n",
            " 1.7686547  1.76056421 1.75247407 1.74669802 1.74239886 1.73880982\n",
            " 1.73543    1.73200178 1.72845924 1.72485697 1.72130668 1.71792972\n",
            " 1.71482885 1.71208179 1.70973861 1.70782518]\n",
            "16 day output [[1.7063496]]\n",
            "17 day input [1.7180918  1.78678089 1.83904433 1.83535052 1.72249293 1.71581264\n",
            " 1.79589752 1.81633134 1.8458818  1.80517133 1.81711726 1.80187048\n",
            " 1.86152153 1.84320968 1.84383842 1.79707639 1.83338573 1.8072933\n",
            " 1.75031437 1.6334486  1.55407105 1.58998743 1.43964162 1.43838416\n",
            " 1.63839987 1.56381641 1.66928639 1.5921094  1.56153725 1.38187677\n",
            " 1.53253694 1.45465262 1.24088337 1.4746149  1.1935712  1.2772713\n",
            " 1.22862307 1.21376925 1.09163785 1.05336372 1.2302735  1.21958504\n",
            " 1.32112543 1.23703238 1.29259667 1.2885099  1.18335429 1.21494813\n",
            " 1.18728387 1.35279786 1.328906   1.38109085 1.39618045 1.43751965\n",
            " 1.54597611 1.5253851  1.54314681 1.51257466 1.46644137 1.39916693\n",
            " 1.45991826 1.45150896 1.51391072 1.51548255 1.47940899 1.55132034\n",
            " 1.59902546 1.56185162 1.5939956  1.62857592 1.65270355 1.67714555\n",
            " 1.72736561 1.76571833 1.73742534 1.70787488 1.7227287  1.70834643\n",
            " 1.76532537 1.75102169 1.798884   1.78017919 1.79621188 1.7686547\n",
            " 1.76056421 1.75247407 1.74669802 1.74239886 1.73880982 1.73543\n",
            " 1.73200178 1.72845924 1.72485697 1.72130668 1.71792972 1.71482885\n",
            " 1.71208179 1.70973861 1.70782518 1.70634961]\n",
            "17 day output [[1.7053086]]\n",
            "18 day input [1.78678089 1.83904433 1.83535052 1.72249293 1.71581264 1.79589752\n",
            " 1.81633134 1.8458818  1.80517133 1.81711726 1.80187048 1.86152153\n",
            " 1.84320968 1.84383842 1.79707639 1.83338573 1.8072933  1.75031437\n",
            " 1.6334486  1.55407105 1.58998743 1.43964162 1.43838416 1.63839987\n",
            " 1.56381641 1.66928639 1.5921094  1.56153725 1.38187677 1.53253694\n",
            " 1.45465262 1.24088337 1.4746149  1.1935712  1.2772713  1.22862307\n",
            " 1.21376925 1.09163785 1.05336372 1.2302735  1.21958504 1.32112543\n",
            " 1.23703238 1.29259667 1.2885099  1.18335429 1.21494813 1.18728387\n",
            " 1.35279786 1.328906   1.38109085 1.39618045 1.43751965 1.54597611\n",
            " 1.5253851  1.54314681 1.51257466 1.46644137 1.39916693 1.45991826\n",
            " 1.45150896 1.51391072 1.51548255 1.47940899 1.55132034 1.59902546\n",
            " 1.56185162 1.5939956  1.62857592 1.65270355 1.67714555 1.72736561\n",
            " 1.76571833 1.73742534 1.70787488 1.7227287  1.70834643 1.76532537\n",
            " 1.75102169 1.798884   1.78017919 1.79621188 1.7686547  1.76056421\n",
            " 1.75247407 1.74669802 1.74239886 1.73880982 1.73543    1.73200178\n",
            " 1.72845924 1.72485697 1.72130668 1.71792972 1.71482885 1.71208179\n",
            " 1.70973861 1.70782518 1.70634961 1.70530856]\n",
            "18 day output [[1.7046905]]\n",
            "19 day input [1.83904433 1.83535052 1.72249293 1.71581264 1.79589752 1.81633134\n",
            " 1.8458818  1.80517133 1.81711726 1.80187048 1.86152153 1.84320968\n",
            " 1.84383842 1.79707639 1.83338573 1.8072933  1.75031437 1.6334486\n",
            " 1.55407105 1.58998743 1.43964162 1.43838416 1.63839987 1.56381641\n",
            " 1.66928639 1.5921094  1.56153725 1.38187677 1.53253694 1.45465262\n",
            " 1.24088337 1.4746149  1.1935712  1.2772713  1.22862307 1.21376925\n",
            " 1.09163785 1.05336372 1.2302735  1.21958504 1.32112543 1.23703238\n",
            " 1.29259667 1.2885099  1.18335429 1.21494813 1.18728387 1.35279786\n",
            " 1.328906   1.38109085 1.39618045 1.43751965 1.54597611 1.5253851\n",
            " 1.54314681 1.51257466 1.46644137 1.39916693 1.45991826 1.45150896\n",
            " 1.51391072 1.51548255 1.47940899 1.55132034 1.59902546 1.56185162\n",
            " 1.5939956  1.62857592 1.65270355 1.67714555 1.72736561 1.76571833\n",
            " 1.73742534 1.70787488 1.7227287  1.70834643 1.76532537 1.75102169\n",
            " 1.798884   1.78017919 1.79621188 1.7686547  1.76056421 1.75247407\n",
            " 1.74669802 1.74239886 1.73880982 1.73543    1.73200178 1.72845924\n",
            " 1.72485697 1.72130668 1.71792972 1.71482885 1.71208179 1.70973861\n",
            " 1.70782518 1.70634961 1.70530856 1.70469046]\n",
            "19 day output [[1.7044756]]\n",
            "20 day input [1.83535052 1.72249293 1.71581264 1.79589752 1.81633134 1.8458818\n",
            " 1.80517133 1.81711726 1.80187048 1.86152153 1.84320968 1.84383842\n",
            " 1.79707639 1.83338573 1.8072933  1.75031437 1.6334486  1.55407105\n",
            " 1.58998743 1.43964162 1.43838416 1.63839987 1.56381641 1.66928639\n",
            " 1.5921094  1.56153725 1.38187677 1.53253694 1.45465262 1.24088337\n",
            " 1.4746149  1.1935712  1.2772713  1.22862307 1.21376925 1.09163785\n",
            " 1.05336372 1.2302735  1.21958504 1.32112543 1.23703238 1.29259667\n",
            " 1.2885099  1.18335429 1.21494813 1.18728387 1.35279786 1.328906\n",
            " 1.38109085 1.39618045 1.43751965 1.54597611 1.5253851  1.54314681\n",
            " 1.51257466 1.46644137 1.39916693 1.45991826 1.45150896 1.51391072\n",
            " 1.51548255 1.47940899 1.55132034 1.59902546 1.56185162 1.5939956\n",
            " 1.62857592 1.65270355 1.67714555 1.72736561 1.76571833 1.73742534\n",
            " 1.70787488 1.7227287  1.70834643 1.76532537 1.75102169 1.798884\n",
            " 1.78017919 1.79621188 1.7686547  1.76056421 1.75247407 1.74669802\n",
            " 1.74239886 1.73880982 1.73543    1.73200178 1.72845924 1.72485697\n",
            " 1.72130668 1.71792972 1.71482885 1.71208179 1.70973861 1.70782518\n",
            " 1.70634961 1.70530856 1.70469046 1.70447564]\n",
            "20 day output [[1.7046427]]\n",
            "21 day input [1.72249293 1.71581264 1.79589752 1.81633134 1.8458818  1.80517133\n",
            " 1.81711726 1.80187048 1.86152153 1.84320968 1.84383842 1.79707639\n",
            " 1.83338573 1.8072933  1.75031437 1.6334486  1.55407105 1.58998743\n",
            " 1.43964162 1.43838416 1.63839987 1.56381641 1.66928639 1.5921094\n",
            " 1.56153725 1.38187677 1.53253694 1.45465262 1.24088337 1.4746149\n",
            " 1.1935712  1.2772713  1.22862307 1.21376925 1.09163785 1.05336372\n",
            " 1.2302735  1.21958504 1.32112543 1.23703238 1.29259667 1.2885099\n",
            " 1.18335429 1.21494813 1.18728387 1.35279786 1.328906   1.38109085\n",
            " 1.39618045 1.43751965 1.54597611 1.5253851  1.54314681 1.51257466\n",
            " 1.46644137 1.39916693 1.45991826 1.45150896 1.51391072 1.51548255\n",
            " 1.47940899 1.55132034 1.59902546 1.56185162 1.5939956  1.62857592\n",
            " 1.65270355 1.67714555 1.72736561 1.76571833 1.73742534 1.70787488\n",
            " 1.7227287  1.70834643 1.76532537 1.75102169 1.798884   1.78017919\n",
            " 1.79621188 1.7686547  1.76056421 1.75247407 1.74669802 1.74239886\n",
            " 1.73880982 1.73543    1.73200178 1.72845924 1.72485697 1.72130668\n",
            " 1.71792972 1.71482885 1.71208179 1.70973861 1.70782518 1.70634961\n",
            " 1.70530856 1.70469046 1.70447564 1.70464265]\n",
            "21 day output [[1.7051699]]\n",
            "22 day input [1.71581264 1.79589752 1.81633134 1.8458818  1.80517133 1.81711726\n",
            " 1.80187048 1.86152153 1.84320968 1.84383842 1.79707639 1.83338573\n",
            " 1.8072933  1.75031437 1.6334486  1.55407105 1.58998743 1.43964162\n",
            " 1.43838416 1.63839987 1.56381641 1.66928639 1.5921094  1.56153725\n",
            " 1.38187677 1.53253694 1.45465262 1.24088337 1.4746149  1.1935712\n",
            " 1.2772713  1.22862307 1.21376925 1.09163785 1.05336372 1.2302735\n",
            " 1.21958504 1.32112543 1.23703238 1.29259667 1.2885099  1.18335429\n",
            " 1.21494813 1.18728387 1.35279786 1.328906   1.38109085 1.39618045\n",
            " 1.43751965 1.54597611 1.5253851  1.54314681 1.51257466 1.46644137\n",
            " 1.39916693 1.45991826 1.45150896 1.51391072 1.51548255 1.47940899\n",
            " 1.55132034 1.59902546 1.56185162 1.5939956  1.62857592 1.65270355\n",
            " 1.67714555 1.72736561 1.76571833 1.73742534 1.70787488 1.7227287\n",
            " 1.70834643 1.76532537 1.75102169 1.798884   1.78017919 1.79621188\n",
            " 1.7686547  1.76056421 1.75247407 1.74669802 1.74239886 1.73880982\n",
            " 1.73543    1.73200178 1.72845924 1.72485697 1.72130668 1.71792972\n",
            " 1.71482885 1.71208179 1.70973861 1.70782518 1.70634961 1.70530856\n",
            " 1.70469046 1.70447564 1.70464265 1.70516992]\n",
            "22 day output [[1.7060335]]\n",
            "23 day input [1.79589752 1.81633134 1.8458818  1.80517133 1.81711726 1.80187048\n",
            " 1.86152153 1.84320968 1.84383842 1.79707639 1.83338573 1.8072933\n",
            " 1.75031437 1.6334486  1.55407105 1.58998743 1.43964162 1.43838416\n",
            " 1.63839987 1.56381641 1.66928639 1.5921094  1.56153725 1.38187677\n",
            " 1.53253694 1.45465262 1.24088337 1.4746149  1.1935712  1.2772713\n",
            " 1.22862307 1.21376925 1.09163785 1.05336372 1.2302735  1.21958504\n",
            " 1.32112543 1.23703238 1.29259667 1.2885099  1.18335429 1.21494813\n",
            " 1.18728387 1.35279786 1.328906   1.38109085 1.39618045 1.43751965\n",
            " 1.54597611 1.5253851  1.54314681 1.51257466 1.46644137 1.39916693\n",
            " 1.45991826 1.45150896 1.51391072 1.51548255 1.47940899 1.55132034\n",
            " 1.59902546 1.56185162 1.5939956  1.62857592 1.65270355 1.67714555\n",
            " 1.72736561 1.76571833 1.73742534 1.70787488 1.7227287  1.70834643\n",
            " 1.76532537 1.75102169 1.798884   1.78017919 1.79621188 1.7686547\n",
            " 1.76056421 1.75247407 1.74669802 1.74239886 1.73880982 1.73543\n",
            " 1.73200178 1.72845924 1.72485697 1.72130668 1.71792972 1.71482885\n",
            " 1.71208179 1.70973861 1.70782518 1.70634961 1.70530856 1.70469046\n",
            " 1.70447564 1.70464265 1.70516992 1.70603347]\n",
            "23 day output [[1.7072029]]\n",
            "24 day input [1.81633134 1.8458818  1.80517133 1.81711726 1.80187048 1.86152153\n",
            " 1.84320968 1.84383842 1.79707639 1.83338573 1.8072933  1.75031437\n",
            " 1.6334486  1.55407105 1.58998743 1.43964162 1.43838416 1.63839987\n",
            " 1.56381641 1.66928639 1.5921094  1.56153725 1.38187677 1.53253694\n",
            " 1.45465262 1.24088337 1.4746149  1.1935712  1.2772713  1.22862307\n",
            " 1.21376925 1.09163785 1.05336372 1.2302735  1.21958504 1.32112543\n",
            " 1.23703238 1.29259667 1.2885099  1.18335429 1.21494813 1.18728387\n",
            " 1.35279786 1.328906   1.38109085 1.39618045 1.43751965 1.54597611\n",
            " 1.5253851  1.54314681 1.51257466 1.46644137 1.39916693 1.45991826\n",
            " 1.45150896 1.51391072 1.51548255 1.47940899 1.55132034 1.59902546\n",
            " 1.56185162 1.5939956  1.62857592 1.65270355 1.67714555 1.72736561\n",
            " 1.76571833 1.73742534 1.70787488 1.7227287  1.70834643 1.76532537\n",
            " 1.75102169 1.798884   1.78017919 1.79621188 1.7686547  1.76056421\n",
            " 1.75247407 1.74669802 1.74239886 1.73880982 1.73543    1.73200178\n",
            " 1.72845924 1.72485697 1.72130668 1.71792972 1.71482885 1.71208179\n",
            " 1.70973861 1.70782518 1.70634961 1.70530856 1.70469046 1.70447564\n",
            " 1.70464265 1.70516992 1.70603347 1.70720291]\n",
            "24 day output [[1.7086452]]\n",
            "25 day input [1.8458818  1.80517133 1.81711726 1.80187048 1.86152153 1.84320968\n",
            " 1.84383842 1.79707639 1.83338573 1.8072933  1.75031437 1.6334486\n",
            " 1.55407105 1.58998743 1.43964162 1.43838416 1.63839987 1.56381641\n",
            " 1.66928639 1.5921094  1.56153725 1.38187677 1.53253694 1.45465262\n",
            " 1.24088337 1.4746149  1.1935712  1.2772713  1.22862307 1.21376925\n",
            " 1.09163785 1.05336372 1.2302735  1.21958504 1.32112543 1.23703238\n",
            " 1.29259667 1.2885099  1.18335429 1.21494813 1.18728387 1.35279786\n",
            " 1.328906   1.38109085 1.39618045 1.43751965 1.54597611 1.5253851\n",
            " 1.54314681 1.51257466 1.46644137 1.39916693 1.45991826 1.45150896\n",
            " 1.51391072 1.51548255 1.47940899 1.55132034 1.59902546 1.56185162\n",
            " 1.5939956  1.62857592 1.65270355 1.67714555 1.72736561 1.76571833\n",
            " 1.73742534 1.70787488 1.7227287  1.70834643 1.76532537 1.75102169\n",
            " 1.798884   1.78017919 1.79621188 1.7686547  1.76056421 1.75247407\n",
            " 1.74669802 1.74239886 1.73880982 1.73543    1.73200178 1.72845924\n",
            " 1.72485697 1.72130668 1.71792972 1.71482885 1.71208179 1.70973861\n",
            " 1.70782518 1.70634961 1.70530856 1.70469046 1.70447564 1.70464265\n",
            " 1.70516992 1.70603347 1.70720291 1.70864522]\n",
            "25 day output [[1.7103292]]\n",
            "26 day input [1.80517133 1.81711726 1.80187048 1.86152153 1.84320968 1.84383842\n",
            " 1.79707639 1.83338573 1.8072933  1.75031437 1.6334486  1.55407105\n",
            " 1.58998743 1.43964162 1.43838416 1.63839987 1.56381641 1.66928639\n",
            " 1.5921094  1.56153725 1.38187677 1.53253694 1.45465262 1.24088337\n",
            " 1.4746149  1.1935712  1.2772713  1.22862307 1.21376925 1.09163785\n",
            " 1.05336372 1.2302735  1.21958504 1.32112543 1.23703238 1.29259667\n",
            " 1.2885099  1.18335429 1.21494813 1.18728387 1.35279786 1.328906\n",
            " 1.38109085 1.39618045 1.43751965 1.54597611 1.5253851  1.54314681\n",
            " 1.51257466 1.46644137 1.39916693 1.45991826 1.45150896 1.51391072\n",
            " 1.51548255 1.47940899 1.55132034 1.59902546 1.56185162 1.5939956\n",
            " 1.62857592 1.65270355 1.67714555 1.72736561 1.76571833 1.73742534\n",
            " 1.70787488 1.7227287  1.70834643 1.76532537 1.75102169 1.798884\n",
            " 1.78017919 1.79621188 1.7686547  1.76056421 1.75247407 1.74669802\n",
            " 1.74239886 1.73880982 1.73543    1.73200178 1.72845924 1.72485697\n",
            " 1.72130668 1.71792972 1.71482885 1.71208179 1.70973861 1.70782518\n",
            " 1.70634961 1.70530856 1.70469046 1.70447564 1.70464265 1.70516992\n",
            " 1.70603347 1.70720291 1.70864522 1.71032917]\n",
            "26 day output [[1.7122215]]\n",
            "27 day input [1.81711726 1.80187048 1.86152153 1.84320968 1.84383842 1.79707639\n",
            " 1.83338573 1.8072933  1.75031437 1.6334486  1.55407105 1.58998743\n",
            " 1.43964162 1.43838416 1.63839987 1.56381641 1.66928639 1.5921094\n",
            " 1.56153725 1.38187677 1.53253694 1.45465262 1.24088337 1.4746149\n",
            " 1.1935712  1.2772713  1.22862307 1.21376925 1.09163785 1.05336372\n",
            " 1.2302735  1.21958504 1.32112543 1.23703238 1.29259667 1.2885099\n",
            " 1.18335429 1.21494813 1.18728387 1.35279786 1.328906   1.38109085\n",
            " 1.39618045 1.43751965 1.54597611 1.5253851  1.54314681 1.51257466\n",
            " 1.46644137 1.39916693 1.45991826 1.45150896 1.51391072 1.51548255\n",
            " 1.47940899 1.55132034 1.59902546 1.56185162 1.5939956  1.62857592\n",
            " 1.65270355 1.67714555 1.72736561 1.76571833 1.73742534 1.70787488\n",
            " 1.7227287  1.70834643 1.76532537 1.75102169 1.798884   1.78017919\n",
            " 1.79621188 1.7686547  1.76056421 1.75247407 1.74669802 1.74239886\n",
            " 1.73880982 1.73543    1.73200178 1.72845924 1.72485697 1.72130668\n",
            " 1.71792972 1.71482885 1.71208179 1.70973861 1.70782518 1.70634961\n",
            " 1.70530856 1.70469046 1.70447564 1.70464265 1.70516992 1.70603347\n",
            " 1.70720291 1.70864522 1.71032917 1.7122215 ]\n",
            "27 day output [[1.7142909]]\n",
            "28 day input [1.80187048 1.86152153 1.84320968 1.84383842 1.79707639 1.83338573\n",
            " 1.8072933  1.75031437 1.6334486  1.55407105 1.58998743 1.43964162\n",
            " 1.43838416 1.63839987 1.56381641 1.66928639 1.5921094  1.56153725\n",
            " 1.38187677 1.53253694 1.45465262 1.24088337 1.4746149  1.1935712\n",
            " 1.2772713  1.22862307 1.21376925 1.09163785 1.05336372 1.2302735\n",
            " 1.21958504 1.32112543 1.23703238 1.29259667 1.2885099  1.18335429\n",
            " 1.21494813 1.18728387 1.35279786 1.328906   1.38109085 1.39618045\n",
            " 1.43751965 1.54597611 1.5253851  1.54314681 1.51257466 1.46644137\n",
            " 1.39916693 1.45991826 1.45150896 1.51391072 1.51548255 1.47940899\n",
            " 1.55132034 1.59902546 1.56185162 1.5939956  1.62857592 1.65270355\n",
            " 1.67714555 1.72736561 1.76571833 1.73742534 1.70787488 1.7227287\n",
            " 1.70834643 1.76532537 1.75102169 1.798884   1.78017919 1.79621188\n",
            " 1.7686547  1.76056421 1.75247407 1.74669802 1.74239886 1.73880982\n",
            " 1.73543    1.73200178 1.72845924 1.72485697 1.72130668 1.71792972\n",
            " 1.71482885 1.71208179 1.70973861 1.70782518 1.70634961 1.70530856\n",
            " 1.70469046 1.70447564 1.70464265 1.70516992 1.70603347 1.70720291\n",
            " 1.70864522 1.71032917 1.7122215  1.71429086]\n",
            "28 day output [[1.716503]]\n",
            "29 day input [1.86152153 1.84320968 1.84383842 1.79707639 1.83338573 1.8072933\n",
            " 1.75031437 1.6334486  1.55407105 1.58998743 1.43964162 1.43838416\n",
            " 1.63839987 1.56381641 1.66928639 1.5921094  1.56153725 1.38187677\n",
            " 1.53253694 1.45465262 1.24088337 1.4746149  1.1935712  1.2772713\n",
            " 1.22862307 1.21376925 1.09163785 1.05336372 1.2302735  1.21958504\n",
            " 1.32112543 1.23703238 1.29259667 1.2885099  1.18335429 1.21494813\n",
            " 1.18728387 1.35279786 1.328906   1.38109085 1.39618045 1.43751965\n",
            " 1.54597611 1.5253851  1.54314681 1.51257466 1.46644137 1.39916693\n",
            " 1.45991826 1.45150896 1.51391072 1.51548255 1.47940899 1.55132034\n",
            " 1.59902546 1.56185162 1.5939956  1.62857592 1.65270355 1.67714555\n",
            " 1.72736561 1.76571833 1.73742534 1.70787488 1.7227287  1.70834643\n",
            " 1.76532537 1.75102169 1.798884   1.78017919 1.79621188 1.7686547\n",
            " 1.76056421 1.75247407 1.74669802 1.74239886 1.73880982 1.73543\n",
            " 1.73200178 1.72845924 1.72485697 1.72130668 1.71792972 1.71482885\n",
            " 1.71208179 1.70973861 1.70782518 1.70634961 1.70530856 1.70469046\n",
            " 1.70447564 1.70464265 1.70516992 1.70603347 1.70720291 1.70864522\n",
            " 1.71032917 1.7122215  1.71429086 1.71650302]\n",
            "29 day output [[1.7188259]]\n",
            "[[1.768654704093933], [1.7605642080307007], [1.752474069595337], [1.746698021888733], [1.7423988580703735], [1.7388098239898682], [1.7354300022125244], [1.732001781463623], [1.7284592390060425], [1.724856972694397], [1.7213066816329956], [1.717929720878601], [1.7148288488388062], [1.712081789970398], [1.7097386121749878], [1.7078251838684082], [1.7063496112823486], [1.7053085565567017], [1.7046904563903809], [1.7044756412506104], [1.704642653465271], [1.705169916152954], [1.70603346824646], [1.7072029113769531], [1.708645224571228], [1.7103291749954224], [1.7122215032577515], [1.7142908573150635], [1.7165030241012573], [1.7188259363174438]]\n"
          ]
        }
      ]
    },
    {
      "cell_type": "code",
      "metadata": {
        "id": "xlF6Julw6_9d"
      },
      "source": [
        "day_new=np.arange(1,101)\n",
        "day_pred=np.arange(101,131)"
      ],
      "execution_count": null,
      "outputs": []
    },
    {
      "cell_type": "code",
      "metadata": {
        "colab": {
          "base_uri": "https://localhost:8080/"
        },
        "id": "ejXsx8vK7JRz",
        "outputId": "41794f6a-92e2-471a-a1ef-d502c0da766a"
      },
      "source": [
        "len(df_close)"
      ],
      "execution_count": null,
      "outputs": [
        {
          "output_type": "execute_result",
          "data": {
            "text/plain": [
              "1258"
            ]
          },
          "metadata": {},
          "execution_count": 38
        }
      ]
    },
    {
      "cell_type": "code",
      "metadata": {
        "colab": {
          "base_uri": "https://localhost:8080/",
          "height": 282
        },
        "id": "KBRl1XLB7KxM",
        "outputId": "81cd1989-8c0e-48aa-840d-4eb5fcfdd1c2"
      },
      "source": [
        "#plotting last 100 days and future 30 days\n",
        "plt.plot(day_new,df_close[1158:])\n",
        "plt.plot(day_pred,scaler.inverse_transform(lst_output))"
      ],
      "execution_count": null,
      "outputs": [
        {
          "output_type": "execute_result",
          "data": {
            "text/plain": [
              "[<matplotlib.lines.Line2D at 0x7fc7fa523610>]"
            ]
          },
          "metadata": {},
          "execution_count": 39
        },
        {
          "output_type": "display_data",
          "data": {
            "image/png": "[encoded data removed]",
            "text/plain": [
              "<Figure size 432x288 with 1 Axes>"
            ]
          },
          "metadata": {
            "needs_background": "light"
          }
        }
      ]
    },
    {
      "cell_type": "code",
      "metadata": {
        "colab": {
          "base_uri": "https://localhost:8080/",
          "height": 282
        },
        "id": "3T-JLiSi7Ktu",
        "outputId": "e60d365f-818b-4b19-e65c-48b429a1542c"
      },
      "source": [
        "df_total=df_close.tolist()\n",
        "df_total.extend(scaler.inverse_transform(lst_output))\n",
        "plt.plot(df_total[1200:])"
      ],
      "execution_count": null,
      "outputs": [
        {
          "output_type": "execute_result",
          "data": {
            "text/plain": [
              "[<matplotlib.lines.Line2D at 0x7fc7fa3d13d0>]"
            ]
          },
          "metadata": {},
          "execution_count": 44
        },
        {
          "output_type": "display_data",
          "data": {
            "image/png": "[encoded data removed]",
            "text/plain": [
              "<Figure size 432x288 with 1 Axes>"
            ]
          },
          "metadata": {
            "needs_background": "light"
          }
        }
      ]
    },
    {
      "cell_type": "code",
      "metadata": {
        "id": "46LyIKqB7Kqa"
      },
      "source": [
        ""
      ],
      "execution_count": null,
      "outputs": []
    }
  ]
}